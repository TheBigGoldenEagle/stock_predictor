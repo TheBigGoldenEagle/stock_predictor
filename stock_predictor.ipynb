{
  "nbformat": 4,
  "nbformat_minor": 0,
  "metadata": {
    "colab": {
      "name": "stock_predictor.ipynb",
      "provenance": [],
      "toc_visible": true
    },
    "kernelspec": {
      "name": "python3",
      "display_name": "Python 3"
    }
  },
  "cells": [
    {
      "cell_type": "markdown",
      "metadata": {
        "id": "6Sd-tjMnyKxD",
        "colab_type": "text"
      },
      "source": [
        "#Stock Price Predictor\n",
        "\n",
        "This is a Jupyter notebook that you can use to get prediction of adjusted close stock price per the specified day range after the last day from the training data set. The prediction is made by training the machine learning model with historical trade of the stock data. This is the result of study from the following notebook - https://github.com/pathompong-y/stock_predictor. \n",
        "\n",
        "To use this notebook, please follow this setup instruction."
      ]
    },
    {
      "cell_type": "markdown",
      "metadata": {
        "id": "BZZm0B3Lz-_6",
        "colab_type": "text"
      },
      "source": [
        "##Setup Instructions\n",
        "\n",
        "1. Download `stock_predictor.ipynb` and `stock_predictor.py` from https://github.com/pathompong-y/stock_predictor.\n",
        "2. Go to https://colab.research.google.com and go to file and upload new notebook. Upload stock_predictor.ipynb.\n",
        "3. Upload `stock_predictor.py` to Files panel by drag and drop from your local computer to the root/outmost level folder.\n",
        "4. Follow how to use to do train the model and do prediction."
      ]
    },
    {
      "cell_type": "markdown",
      "metadata": {
        "id": "KDjs0MqUy2FE",
        "colab_type": "text"
      },
      "source": [
        "##How to use\n",
        "\n",
        "Provide input into the code cell below per this instruction.\n",
        "\n",
        "1. At `stock_list`, Provide the list of stock symbol separated by space. Make sure that the symbol is searchable on Yahoo Finance - https://finance.yahoo.com/.\n",
        "2. At `training_date_start_date` and `training_data_end_date`, specify the start date and end date for historical data of the stock to train the model. The date format is DD/MM/YYYY.\n",
        "\n",
        "3. Push \"Play\" button at the cell upper left corner (or alt+enter / cmd+enter). Please wait until you see \"Completed\" message. For one stock, it could take up to 15 minutes."
      ]
    },
    {
      "cell_type": "code",
      "metadata": {
        "id": "ZUDn36GHyDGR",
        "colab_type": "code",
        "colab": {
          "base_uri": "https://localhost:8080/",
          "height": 459
        },
        "outputId": "f053c35b-88d7-48f3-e764-7d272ac1a1e3"
      },
      "source": [
        "stock_list = 'ASK.BK GOOGL'   \n",
        "training_data_start_date = '08/05/2000'\n",
        "training_data_end_date = '13/05/2020' \n",
        "\n",
        "# ------ DO NOT CHANGE CODE BELOW THIS LINE --------\n",
        "\n",
        "!pip install yfinance\n",
        "import yfinance as yf\n",
        "import os,sys\n",
        "sys.path.append(os.path.abspath(\"/content/stock_predictor.py\"))\n",
        "from stock_predictor import *\n",
        "train_model(stock_list,training_data_start_date,training_data_end_date)"
      ],
      "execution_count": 0,
      "outputs": [
        {
          "output_type": "stream",
          "text": [
            "Collecting yfinance\n",
            "  Downloading https://files.pythonhosted.org/packages/c2/31/8b374a12b90def92a4e27d0fc595fc43635f395984e36a075244d98bd265/yfinance-0.1.54.tar.gz\n",
            "Requirement already satisfied: pandas>=0.24 in /usr/local/lib/python3.6/dist-packages (from yfinance) (1.0.3)\n",
            "Requirement already satisfied: numpy>=1.15 in /usr/local/lib/python3.6/dist-packages (from yfinance) (1.18.4)\n",
            "Requirement already satisfied: requests>=2.20 in /usr/local/lib/python3.6/dist-packages (from yfinance) (2.23.0)\n",
            "Requirement already satisfied: multitasking>=0.0.7 in /usr/local/lib/python3.6/dist-packages (from yfinance) (0.0.9)\n",
            "Requirement already satisfied: python-dateutil>=2.6.1 in /usr/local/lib/python3.6/dist-packages (from pandas>=0.24->yfinance) (2.8.1)\n",
            "Requirement already satisfied: pytz>=2017.2 in /usr/local/lib/python3.6/dist-packages (from pandas>=0.24->yfinance) (2018.9)\n",
            "Requirement already satisfied: certifi>=2017.4.17 in /usr/local/lib/python3.6/dist-packages (from requests>=2.20->yfinance) (2020.4.5.1)\n",
            "Requirement already satisfied: idna<3,>=2.5 in /usr/local/lib/python3.6/dist-packages (from requests>=2.20->yfinance) (2.9)\n",
            "Requirement already satisfied: chardet<4,>=3.0.2 in /usr/local/lib/python3.6/dist-packages (from requests>=2.20->yfinance) (3.0.4)\n",
            "Requirement already satisfied: urllib3!=1.25.0,!=1.25.1,<1.26,>=1.21.1 in /usr/local/lib/python3.6/dist-packages (from requests>=2.20->yfinance) (1.24.3)\n",
            "Requirement already satisfied: six>=1.5 in /usr/local/lib/python3.6/dist-packages (from python-dateutil>=2.6.1->pandas>=0.24->yfinance) (1.12.0)\n",
            "Building wheels for collected packages: yfinance\n",
            "  Building wheel for yfinance (setup.py) ... \u001b[?25l\u001b[?25hdone\n",
            "  Created wheel for yfinance: filename=yfinance-0.1.54-py2.py3-none-any.whl size=22409 sha256=46496be0c7ad98bc777515cec38d9321435301ade2d3256ba54bdfbdba03e2a8\n",
            "  Stored in directory: /root/.cache/pip/wheels/f9/e3/5b/ec24dd2984b12d61e0abf26289746c2436a0e7844f26f2515c\n",
            "Successfully built yfinance\n",
            "Installing collected packages: yfinance\n",
            "Successfully installed yfinance-0.1.54\n"
          ],
          "name": "stdout"
        },
        {
          "output_type": "stream",
          "text": [
            "Using TensorFlow backend.\n"
          ],
          "name": "stderr"
        },
        {
          "output_type": "stream",
          "text": [
            "Downloading data from Yahoo Finance...\n",
            "[*********************100%***********************]  1 of 1 completed\n",
            "Downloading data from Yahoo Finance...\n",
            "[*********************100%***********************]  1 of 1 completed\n",
            "start model training for stock = ASK.BK. It may take at least 5 minutes...\n"
          ],
          "name": "stdout"
        }
      ]
    },
    {
      "cell_type": "markdown",
      "metadata": {
        "id": "2I8ayT7A19B4",
        "colab_type": "text"
      },
      "source": [
        "4. You can query for the predicted stock price by adding the list of stock symbol in `query_list`. The symbol must be subset of `stock_list` that you provided in step 1.\n",
        "\n",
        "5. `prediction_range` is the day range of price prediction after `end_date` in step 2. For example, if `end_date` is 15/05/2020 and `prediction_range` is 5. You will get the prediction for 5 days after 15/05/2020.\n",
        "\n",
        "6. Push \"Play\" button at the cell upper left corner (or alt+enter / cmd+enter). You will get the predicted price (Adjusted Close) with mean squared error rate of prediction."
      ]
    },
    {
      "cell_type": "code",
      "metadata": {
        "id": "wyowizCI1eKo",
        "colab_type": "code",
        "colab": {}
      },
      "source": [
        "query_list = 'ASK.BK INTUCH.BK'\n",
        "prediction_range = 5\n",
        "\n",
        "# ------ DO NOT CHANGE CODE BELOW THIS LINE --------\n",
        "\n",
        "query_price(query_list,prediction_range)"
      ],
      "execution_count": 0,
      "outputs": []
    }
  ]
}