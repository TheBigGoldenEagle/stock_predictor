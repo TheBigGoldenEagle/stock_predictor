{
  "nbformat": 4,
  "nbformat_minor": 0,
  "metadata": {
    "colab": {
      "name": "stock_predictor_tuning_study.ipynb",
      "provenance": [],
      "collapsed_sections": []
    },
    "kernelspec": {
      "name": "python3",
      "display_name": "Python 3"
    }
  },
  "cells": [
    {
      "cell_type": "markdown",
      "metadata": {
        "id": "_ppbmnG5uR2Z",
        "colab_type": "text"
      },
      "source": [
        "# Thailand Stock Price Prediction Study with Deep Learning\n",
        "\n",
        "It is always be better to know the future especially in stock trading as we can plan well on when to buy and when to sell to make profit. \n",
        "\n",
        "As I search over the internet, I found some example of using deep-learning algorithms like Long Short-Term Memory (LSTM) to predict stock price. \n",
        "\n",
        "However, I haven't seen much example and result of tuning LSTM for different range of prediction to get the best result and also the accuracy of the model when we use it with various number of stock.\n",
        "\n",
        "**Therefore, the objectives of the study in this notebook are:**\n",
        "\n",
        "1. Build a stock predictor using LSTM and tune the paramters for one selected stock in predicting its Adjusted Close price in the next 1, 5 and 10 days. The way that I intend to tune the parameters are:\n",
        "  - Starting by using the lowest value for all parameters and allow only one parameter to be adjusted.\n",
        "  - Loop thru the cycle of build, train and validate different value of the parameters to find the best value of that parameters. \n",
        "  - Do this for all parameters to see which parameter and which value give the lowest error.\n",
        "  - Update the particular parameter with value while the others is still the lowest.\n",
        "  - Repeat all steps until the error doesn't get lower and that will be the set of best parameter value.\n",
        "\n",
        "2. Build model by using the set of parameters as found from previous topics to do prediction on another set of stock and measure how many stock that the model could predict with acceptable error rate.\n",
        "\n",
        "3. Build user-friendly script that the user is able to:\n",
        "  - Provide list of stocks, date range of historical data and train the model.\n",
        "  - Query the predicted price by selecting the stock and the date range of price prediction.\n",
        "\n",
        "**Data**\n",
        "\n",
        "As I reside in Thailand, the target list of stock for my model will be the 50 most highest value stock in Stock Exchange of Thailand (or SET50). The list is here : https://www.settrade.com/C13_MarketSummary.jsp?detail=SET50. The stock that I'll use as the sample for tuning LSTM parameters will be one of the stock from SET50.\n",
        "\n",
        "The data that I use will be from Yahoo Finance - https://finance.yahoo.com/ which provides the historical data of Open, High, Low, Close, Adjusted Close price and trade volume.\n",
        "\n",
        "\n",
        "\n",
        "**Metrics**\n",
        "\n",
        "The metrics for each topics of study will be a measurement of prediction accuracy. Since, this will be measurement of how the predicted line fit the actual line. Mean Square Error would be the appropriate metrics to measure the model accuracy (the lower the better). We can even take square root to find the actual distance between the data and the predicted line.\n",
        "\n",
        "\n",
        "The content from here will be a deep-drive implementation for each topic as listed above."
      ]
    },
    {
      "cell_type": "markdown",
      "metadata": {
        "id": "tFjj_Bewgd9n",
        "colab_type": "text"
      },
      "source": [
        "## 1. Build LSTM and optimize parameters for one stock in SET50 on 1,5 and 10 days prediction\n",
        "\n",
        "***1.1 Select the workspace and install yfinance library***\n",
        "\n",
        "First, we will need to get stock data from Yahoo Finance. **yfinance** library is the package that we need to install. It is packed with function to get the data from Yahoo Finance. The documentation can be found here - https://pypi.org/project/yfinance/.\n",
        "\n",
        "Install yfinance using !pip install command."
      ]
    },
    {
      "cell_type": "code",
      "metadata": {
        "id": "hk68PvYLf-cU",
        "colab_type": "code",
        "outputId": "faa1ff1a-cc86-4aab-e43c-254a97026fed",
        "colab": {
          "base_uri": "https://localhost:8080/",
          "height": 357
        }
      },
      "source": [
        "!pip install yfinance\n",
        "import yfinance as yf"
      ],
      "execution_count": 0,
      "outputs": [
        {
          "output_type": "stream",
          "text": [
            "Collecting yfinance\n",
            "  Downloading https://files.pythonhosted.org/packages/c2/31/8b374a12b90def92a4e27d0fc595fc43635f395984e36a075244d98bd265/yfinance-0.1.54.tar.gz\n",
            "Requirement already satisfied: pandas>=0.24 in /usr/local/lib/python3.6/dist-packages (from yfinance) (1.0.3)\n",
            "Requirement already satisfied: numpy>=1.15 in /usr/local/lib/python3.6/dist-packages (from yfinance) (1.18.4)\n",
            "Requirement already satisfied: requests>=2.20 in /usr/local/lib/python3.6/dist-packages (from yfinance) (2.23.0)\n",
            "Requirement already satisfied: multitasking>=0.0.7 in /usr/local/lib/python3.6/dist-packages (from yfinance) (0.0.9)\n",
            "Requirement already satisfied: pytz>=2017.2 in /usr/local/lib/python3.6/dist-packages (from pandas>=0.24->yfinance) (2018.9)\n",
            "Requirement already satisfied: python-dateutil>=2.6.1 in /usr/local/lib/python3.6/dist-packages (from pandas>=0.24->yfinance) (2.8.1)\n",
            "Requirement already satisfied: certifi>=2017.4.17 in /usr/local/lib/python3.6/dist-packages (from requests>=2.20->yfinance) (2020.4.5.1)\n",
            "Requirement already satisfied: urllib3!=1.25.0,!=1.25.1,<1.26,>=1.21.1 in /usr/local/lib/python3.6/dist-packages (from requests>=2.20->yfinance) (1.24.3)\n",
            "Requirement already satisfied: chardet<4,>=3.0.2 in /usr/local/lib/python3.6/dist-packages (from requests>=2.20->yfinance) (3.0.4)\n",
            "Requirement already satisfied: idna<3,>=2.5 in /usr/local/lib/python3.6/dist-packages (from requests>=2.20->yfinance) (2.9)\n",
            "Requirement already satisfied: six>=1.5 in /usr/local/lib/python3.6/dist-packages (from python-dateutil>=2.6.1->pandas>=0.24->yfinance) (1.12.0)\n",
            "Building wheels for collected packages: yfinance\n",
            "  Building wheel for yfinance (setup.py) ... \u001b[?25l\u001b[?25hdone\n",
            "  Created wheel for yfinance: filename=yfinance-0.1.54-py2.py3-none-any.whl size=22409 sha256=ca57ad307e849d0b73d634259e74d4615f2796e027f79605295d8fdd4cfea639\n",
            "  Stored in directory: /root/.cache/pip/wheels/f9/e3/5b/ec24dd2984b12d61e0abf26289746c2436a0e7844f26f2515c\n",
            "Successfully built yfinance\n",
            "Installing collected packages: yfinance\n",
            "Successfully installed yfinance-0.1.54\n"
          ],
          "name": "stdout"
        }
      ]
    },
    {
      "cell_type": "markdown",
      "metadata": {
        "id": "M1Dl6idVhGiY",
        "colab_type": "text"
      },
      "source": [
        "As LSTM required tensorflow to build and train the model, I develop this notebook on Google's colaboratory - https://colab.research.google.com which provide free Jupyter Notebook working space with ternsorflow GPU supported installed. It is also able to read/write file to Google Drive which is quite handy for me in this situation as my personal machine doesn't has GPU.\n",
        "\n",
        "Keras is Deep Learning library which has LSTM implemented that I'm going to use in this exploration - https://keras.io/.\n",
        "\n",
        "To use Keras, we need to install tensorflow which is Keras's dependencies.\n",
        "The code block below will import all of necessary libraries and test run to see, if the machine instance supports the library or not.\n",
        "\n"
      ]
    },
    {
      "cell_type": "code",
      "metadata": {
        "id": "B0d9XcoqV5-_",
        "colab_type": "code",
        "colab": {}
      },
      "source": [
        "# Numpy and Pandas for data transformation\n",
        "import numpy as np\n",
        "import pandas as pd\n",
        "\n",
        "# Datetime for handling datetime of the data\n",
        "import os.path, time\n",
        "import datetime\n",
        "\n",
        "# For Plotting graph\n",
        "import matplotlib.pyplot as plt\n",
        "\n",
        "# Preprocessing for normalize data\n",
        "from sklearn import preprocessing\n",
        "\n",
        "# Keras Model and Tensorflow\n",
        "import keras\n",
        "import tensorflow as tf\n",
        "from keras.models import Model\n",
        "from keras.layers import Dense, Dropout, LSTM, Input, Activation, concatenate\n",
        "from keras import optimizers\n",
        "from keras.models import Sequential\n",
        "from keras.utils import plot_model"
      ],
      "execution_count": 0,
      "outputs": []
    },
    {
      "cell_type": "markdown",
      "metadata": {
        "id": "EbbzQJ_uAYp7",
        "colab_type": "text"
      },
      "source": [
        "***1.2 Prepare data***\n",
        "\n",
        "Since we will use all of SET50 data, I'll download all of them. The stock that I select to explore is INTUCH which is the one that I used to trade. \n",
        "\n",
        "I use colaboratory's Google Drive mounting features to store the downloaded data and also intermediate result while working on this notebook."
      ]
    },
    {
      "cell_type": "code",
      "metadata": {
        "id": "KtgfCRSbdkuG",
        "colab_type": "code",
        "colab": {}
      },
      "source": [
        "# This variable is the path to my Google Drive's folder which will use to contain the copy of SET50 historical stock data\n",
        "gdrive_path = '/content/drive/My Drive/Colab Notebooks/Data/'\n",
        "\n",
        "# List of SET50 stock list. It is from set.or.th\n",
        "def get_set50_list():\n",
        "  '''\n",
        "    Return the array which contain list of SET50 ticker as of April 2020.\n",
        "    \n",
        "    Input\n",
        "    - N/A\n",
        "\n",
        "    Output\n",
        "    - stock_list (Array) : Array containing list of SET50 ticker compatible with Yahoo Finance\n",
        "  '''\n",
        "  stock_list = [\n",
        "  'ADVANC.BK','AOT.BK','AWC.BK','BANPU.BK','BBL.BK','BDMS.BK','BEM.BK','BGRIM.BK','BH.BK','BJC.BK','BTS.BK','CBG.BK','CPALL.BK','CPF.BK','CPN.BK','CRC.BK',\n",
        "'DELTA.BK','DTAC.BK','EA.BK','EGCO.BK','GLOBAL.BK','GPSC.BK','GULF.BK','HMPRO.BK','INTUCH.BK','IRPC.BK','IVL.BK','KBANK.BK','KTB.BK','KTC.BK','LH.BK','MINT.BK',\n",
        "'MTC.BK','OSP.BK','PTT.BK','PTTEP.BK','PTTGC.BK','RATCH.BK','SAWAD.BK','SCB.BK','SCC.BK', 'TCAP.BK','TISCO.BK','TMB.BK','TOA.BK','TOP.BK','TRUE.BK','TU.BK',\n",
        "'VGI.BK','WHA.BK'\n",
        "]\n",
        "\n",
        "  return stock_list\n",
        "\n",
        "# Define function for later use\n",
        "def get_set50_data():\n",
        "  '''\n",
        "    This function will check the copy of historical data on my Google Drive and re-download historical file again, if it found that the last modified date is older than today.\n",
        "\n",
        "    Input:\n",
        "    - N/A\n",
        "\n",
        "    Output:\n",
        "    - No return value\n",
        "    - The function will check, if the copy of historical stock data is older than today it will get the whole historical data and overwrite the same file.\n",
        "  '''\n",
        "  stock_list = get_set50_list()\n",
        "  for stock in stock_list:\n",
        "    try:\n",
        "      # Define the file path\n",
        "      file = gdrive_path+stock+'.csv'\n",
        "\n",
        "      # Get the last modified date, if it is today we will skip this file otherwise download all historical data and save to file\n",
        "      modified_date = datetime.datetime.strptime(time.ctime(os.path.getmtime(file)),'%a %b %d %H:%M:%S %Y')\n",
        "      if datetime.datetime.now().date() != modified_date.date():\n",
        "        stock_data = yf.Ticker(stock)\n",
        "        pd.DataFrame(stock_data.history(period='max',auto_adjust=False,actions=False)).to_csv(file)\n",
        "    except:\n",
        "      # Write any exception to file to figure it out later\n",
        "      stock_data = yf.Ticker(stock)\n",
        "      pd.DataFrame(stock_data.history(period='max',auto_adjust=False,actions=False)).to_csv(file)"
      ],
      "execution_count": 0,
      "outputs": []
    },
    {
      "cell_type": "code",
      "metadata": {
        "id": "UmkBm4zD_mya",
        "colab_type": "code",
        "outputId": "56d8dd72-d5f1-4179-f67e-dfb011c29db3",
        "colab": {
          "base_uri": "https://localhost:8080/",
          "height": 204
        }
      },
      "source": [
        "# Call the function\n",
        "get_set50_data()\n",
        "\n",
        "# Explore our data\n",
        "stock = 'INTUCH.BK'\n",
        "filename = gdrive_path+stock+'.csv'\n",
        "\n",
        "df = pd.read_csv(filename)\n",
        "df.head()"
      ],
      "execution_count": 0,
      "outputs": [
        {
          "output_type": "execute_result",
          "data": {
            "text/html": [
              "<div>\n",
              "<style scoped>\n",
              "    .dataframe tbody tr th:only-of-type {\n",
              "        vertical-align: middle;\n",
              "    }\n",
              "\n",
              "    .dataframe tbody tr th {\n",
              "        vertical-align: top;\n",
              "    }\n",
              "\n",
              "    .dataframe thead th {\n",
              "        text-align: right;\n",
              "    }\n",
              "</style>\n",
              "<table border=\"1\" class=\"dataframe\">\n",
              "  <thead>\n",
              "    <tr style=\"text-align: right;\">\n",
              "      <th></th>\n",
              "      <th>Date</th>\n",
              "      <th>Open</th>\n",
              "      <th>High</th>\n",
              "      <th>Low</th>\n",
              "      <th>Close</th>\n",
              "      <th>Adj Close</th>\n",
              "      <th>Volume</th>\n",
              "    </tr>\n",
              "  </thead>\n",
              "  <tbody>\n",
              "    <tr>\n",
              "      <th>0</th>\n",
              "      <td>1995-01-03</td>\n",
              "      <td>30.36</td>\n",
              "      <td>30.36</td>\n",
              "      <td>30.14</td>\n",
              "      <td>30.36</td>\n",
              "      <td>2.46</td>\n",
              "      <td>68960</td>\n",
              "    </tr>\n",
              "    <tr>\n",
              "      <th>1</th>\n",
              "      <td>1995-01-04</td>\n",
              "      <td>30.25</td>\n",
              "      <td>30.47</td>\n",
              "      <td>30.14</td>\n",
              "      <td>30.36</td>\n",
              "      <td>2.46</td>\n",
              "      <td>78350</td>\n",
              "    </tr>\n",
              "    <tr>\n",
              "      <th>2</th>\n",
              "      <td>1995-01-05</td>\n",
              "      <td>30.47</td>\n",
              "      <td>30.91</td>\n",
              "      <td>30.36</td>\n",
              "      <td>30.47</td>\n",
              "      <td>2.47</td>\n",
              "      <td>123290</td>\n",
              "    </tr>\n",
              "    <tr>\n",
              "      <th>3</th>\n",
              "      <td>1995-01-06</td>\n",
              "      <td>30.47</td>\n",
              "      <td>30.58</td>\n",
              "      <td>30.14</td>\n",
              "      <td>30.14</td>\n",
              "      <td>2.44</td>\n",
              "      <td>52350</td>\n",
              "    </tr>\n",
              "    <tr>\n",
              "      <th>4</th>\n",
              "      <td>1995-01-09</td>\n",
              "      <td>30.14</td>\n",
              "      <td>30.14</td>\n",
              "      <td>29.14</td>\n",
              "      <td>29.69</td>\n",
              "      <td>2.41</td>\n",
              "      <td>141170</td>\n",
              "    </tr>\n",
              "  </tbody>\n",
              "</table>\n",
              "</div>"
            ],
            "text/plain": [
              "         Date   Open   High    Low  Close  Adj Close  Volume\n",
              "0  1995-01-03  30.36  30.36  30.14  30.36       2.46   68960\n",
              "1  1995-01-04  30.25  30.47  30.14  30.36       2.46   78350\n",
              "2  1995-01-05  30.47  30.91  30.36  30.47       2.47  123290\n",
              "3  1995-01-06  30.47  30.58  30.14  30.14       2.44   52350\n",
              "4  1995-01-09  30.14  30.14  29.14  29.69       2.41  141170"
            ]
          },
          "metadata": {
            "tags": []
          },
          "execution_count": 10
        }
      ]
    },
    {
      "cell_type": "code",
      "metadata": {
        "id": "_CFrmzfLfRxN",
        "colab_type": "code",
        "outputId": "5ba2e9b6-1ba0-412d-9fa5-fbb87b693cdf",
        "colab": {
          "base_uri": "https://localhost:8080/",
          "height": 153
        }
      },
      "source": [
        "# Check null data\n",
        "df.isnull().sum()"
      ],
      "execution_count": 0,
      "outputs": [
        {
          "output_type": "execute_result",
          "data": {
            "text/plain": [
              "Date         0\n",
              "Open         0\n",
              "High         0\n",
              "Low          0\n",
              "Close        0\n",
              "Adj Close    0\n",
              "Volume       0\n",
              "dtype: int64"
            ]
          },
          "metadata": {
            "tags": []
          },
          "execution_count": 19
        }
      ]
    },
    {
      "cell_type": "code",
      "metadata": {
        "id": "hTR5j3dqgsa-",
        "colab_type": "code",
        "outputId": "806334bf-16e0-48c7-9e43-f40c86c188d0",
        "colab": {
          "base_uri": "https://localhost:8080/",
          "height": 255
        }
      },
      "source": [
        "# Check data type of each column\n",
        "df.info()"
      ],
      "execution_count": 0,
      "outputs": [
        {
          "output_type": "stream",
          "text": [
            "<class 'pandas.core.frame.DataFrame'>\n",
            "RangeIndex: 6240 entries, 0 to 6239\n",
            "Data columns (total 7 columns):\n",
            " #   Column     Non-Null Count  Dtype  \n",
            "---  ------     --------------  -----  \n",
            " 0   Date       6240 non-null   object \n",
            " 1   Open       6240 non-null   float64\n",
            " 2   High       6240 non-null   float64\n",
            " 3   Low        6240 non-null   float64\n",
            " 4   Close      6240 non-null   float64\n",
            " 5   Adj Close  6240 non-null   float64\n",
            " 6   Volume     6240 non-null   int64  \n",
            "dtypes: float64(5), int64(1), object(1)\n",
            "memory usage: 341.4+ KB\n"
          ],
          "name": "stdout"
        }
      ]
    },
    {
      "cell_type": "markdown",
      "metadata": {
        "id": "9ZElSNmx-QVt",
        "colab_type": "text"
      },
      "source": [
        "Base on quick check, the data is quite ready to use.\n",
        "\n",
        "After we have got all of the data, we have to make it ready to train the model.\n",
        "Here is the list of things to do:\n",
        " 1. Drop null rows (if any) as we can't use it anyway.\n",
        " 2. Drop ate as we can't use it as features in model training.\n",
        " 3. Normalize the data to have the value between 0-1 as it will help neural network has better performance. This is per this post : https://towardsdatascience.com/why-data-should-be-normalized-before-training-a-neural-network-c626b7f66c7d\n",
        " 4. Transform the data format. We will predict the Adj. Close for the period of prediction day range (1,5 and 10). So, the dataset will consist of the set of Open, High, Low, Volume of each day for the number of history points day that we will use to do prediction.\n",
        " \n",
        " For example, if we say we want to use 30 history points. One row of our dataset will consists of the following features:\n",
        " \n",
        " `[dayAopen, dayAclose, dayAvolume, dayAhigh, dayAlow,dayA-1open, dayA-1close, dayA-1volume, dayA-1high, dayA-1low....dayA-29low]`"
      ]
    },
    {
      "cell_type": "code",
      "metadata": {
        "id": "7DyLsD8XPo9k",
        "colab_type": "code",
        "outputId": "56735286-0c13-4e2d-bee7-abad237db275",
        "colab": {
          "base_uri": "https://localhost:8080/",
          "height": 34
        }
      },
      "source": [
        "# Construct the CSV filepath for INTUCH.BK\n",
        "stock = 'INTUCH.BK'\n",
        "filename = gdrive_path+stock+'.csv'\n",
        "\n",
        "# Read the file and drop null row\n",
        "df = pd.read_csv(filename)\n",
        "df_na = df.dropna(axis=0)\n",
        "# Drop Date as this is time series data, Date isn't used. Also drop Close as we will predict Adj Close.\n",
        "df_na = df_na.drop(['Date','Close'],axis=1)\n",
        "\n",
        "# As neural network has better performance with normalize data, we will normalize the data before train and predict\n",
        "# After we got the predict result, we will scale them back to normal value to measure error rate.\n",
        "# Normalise all data to the value range of 0-1 as neural network algorithm has better performance with this data range\n",
        "data_normaliser = preprocessing.MinMaxScaler()\n",
        "y_normaliser = preprocessing.MinMaxScaler()\n",
        "data_normalised = data_normaliser.fit_transform(df_na)    \n",
        "\n",
        "# The length of dataset, number of day to predict and number of features\n",
        "history_points = 30\n",
        "predict_range = 1\n",
        "\n",
        "# Prepare the data in the format of [day-1-open,day-1-max,day-1-min,...day-history_point ] as 1 row input for predict the 'predict_range' price for train and test\n",
        "ohlcv_histories_normalised = np.array([data_normalised[i  : i + history_points].copy() for i in range(len(data_normalised) - history_points - predict_range +1)])\n",
        "\n",
        "# Get the actual price [day1-adj close,day2-adj close....day-predict_range adj close] for train and test\n",
        "next_day_adjclose_values_normalised = np.array([data_normalised[i + history_points:i + history_points + predict_range,3].copy() for i in range(len(data_normalised) - history_points - predict_range+1)])\n",
        "\n",
        "# Create the same array as the normalised adj close but with the actual value not the scaled down value. This is used to calculate the prediction accuracy\n",
        "next_day_adjclose_values = np.array([df_na.iloc[i + history_points:i + history_points+predict_range]['Adj Close'].values.copy() for i in range(len(df_na) - history_points - predict_range+1)])    \n",
        "\n",
        "# Use the passed normaliser to fit the actual value so that we can scale the predicted result back to actual value\n",
        "y_normaliser.fit(next_day_adjclose_values)"
      ],
      "execution_count": 0,
      "outputs": [
        {
          "output_type": "execute_result",
          "data": {
            "text/plain": [
              "MinMaxScaler(copy=True, feature_range=(0, 1))"
            ]
          },
          "metadata": {
            "tags": []
          },
          "execution_count": 23
        }
      ]
    },
    {
      "cell_type": "markdown",
      "metadata": {
        "id": "yqzDtZmxDtN3",
        "colab_type": "text"
      },
      "source": [
        "Now, the data is ready. As we are going to train the model, we will have to split the data to train and test."
      ]
    },
    {
      "cell_type": "code",
      "metadata": {
        "id": "pqqC4nJuEj3V",
        "colab_type": "code",
        "colab": {}
      },
      "source": [
        "def train_test_split(ohlcv_histories, next_day_adj_close, unscaled_y,test_split = 0.9):\n",
        "    '''\n",
        "        Split the dataset to train and test dataset per provideed ratio.\n",
        "\n",
        "        Input\n",
        "        - ohlcv_histories (Array) : The dataset in array.\n",
        "        - next_day_adj_close (Array) : The result of prediction using the dataset in array.\n",
        "        - unscaled_y (Array) : The same data as next_day_adj_close but not normalize to 0-1.\n",
        "        - test_split (Float) : The ratio of train per test.\n",
        "\n",
        "        Output\n",
        "        - ohlcv_train (Array) : The train dataset splitted per test_split ratio.\n",
        "        - ohlcv_test (Array) : The test dataset splitted per test_split ratio.\n",
        "        - y_test (Array) : The result of test dataset splitted per test_split ratio.\n",
        "        - y_train (Array) : The result of train dataset splitted per test_split ratio.\n",
        "        - unscaled_y_test (Array) : The unscaled y_test per test_split ratio.\n",
        "    '''\n",
        "    n = int(ohlcv_histories.shape[0] * test_split)\n",
        "\n",
        "    ohlcv_train = ohlcv_histories[:n]\n",
        "    y_train = next_day_adj_close[:n]\n",
        "\n",
        "    ohlcv_test = ohlcv_histories[n:]\n",
        "    y_test = next_day_adj_close[n:]\n",
        "\n",
        "    unscaled_y_test = unscaled_y[n:]\n",
        "\n",
        "    return ohlcv_train, ohlcv_test, y_test, y_train, unscaled_y_test"
      ],
      "execution_count": 0,
      "outputs": []
    },
    {
      "cell_type": "code",
      "metadata": {
        "id": "pZ7_oUSTFNa-",
        "colab_type": "code",
        "colab": {}
      },
      "source": [
        "ohlcv_train, ohlcv_test, y_test, y_train, unscaled_y_test = train_test_split(ohlcv_histories_normalised, next_day_adjclose_values_normalised, next_day_adjclose_values)"
      ],
      "execution_count": 0,
      "outputs": []
    },
    {
      "cell_type": "markdown",
      "metadata": {
        "id": "IDHXrT_-GEA6",
        "colab_type": "text"
      },
      "source": [
        "***1.3 Build, Train and Validate the model***\n",
        "\n",
        "Then, it is ready to create LSTM model, train and validate the model by using mean squared error. LSTM that I will use is a simple one consist of hidden layer, dropout layer, and forecast layer.\n",
        "\n",
        "I create as function so that I can change the parameters of the model."
      ]
    },
    {
      "cell_type": "code",
      "metadata": {
        "id": "PAfxkqkiDuGL",
        "colab_type": "code",
        "colab": {}
      },
      "source": [
        "def get_LSTM_Model(layer_num, history_points, features_num,predict_range,optimizer,dropout_prob):\n",
        "\n",
        "    '''\n",
        "      This function will build LSTM model per provided parameters.\n",
        "      The model will be a simple one consist of one forget layer with configurable forget probability and configurable number of hidden layers.\n",
        "\n",
        "      Input:\n",
        "      - layer_num (Number) : The number of hidden layer.\n",
        "      - history_points (Number) : The number of data in the dataset.\n",
        "      - features_num (Number) : The number of features in the dataset.\n",
        "      - predict_range (Number) : The number of day to predict the stock price.\n",
        "      - optimizer (Number) : The optimizer's name e.g. adam.\n",
        "      - dropout_prob (Float) : Probability to forget the date on dropout layer.\n",
        "\n",
        "      Output:\n",
        "      - model (Object) : The compiled LSTM model per the provided parameters.\n",
        "\n",
        "    '''\n",
        "\n",
        "    # Initialize LSTM using Keras library\n",
        "    model = Sequential()\n",
        "    # Defining hidden layer number and the shape of the input (number of data in the dataset and the number of feature)\n",
        "    model.add(LSTM(layer_num, input_shape=(history_points, features_num)))\n",
        "\n",
        "    # Add forget (dropout) layer with probability per argument\n",
        "    model.add(Dropout(dropout_prob))\n",
        "\n",
        "    # End the network with hiddenlayer per the size of forecast day e.g. 1,5,10\n",
        "    model.add(Dense(predict_range))\n",
        "\n",
        "    # Build and return the model per the selected optimizer\n",
        "    model.compile(loss='mean_squared_error', optimizer=optimizer)\n",
        "    return model"
      ],
      "execution_count": 0,
      "outputs": []
    },
    {
      "cell_type": "code",
      "metadata": {
        "id": "14V-ogmQGqqu",
        "colab_type": "code",
        "outputId": "2e0ccb6f-0931-4b38-bb45-39e65c5c8f3e",
        "colab": {
          "base_uri": "https://localhost:8080/",
          "height": 391
        }
      },
      "source": [
        "# Must be the same as history point that we use to prepare data\n",
        "history_points = 30\n",
        "# Must be the same number of features when we prepare data\n",
        "features_num = 5\n",
        "\n",
        "# LSTM parameters\n",
        "layer_num = 30\n",
        "predict_range = 1\n",
        "optimizer = 'adam'\n",
        "dropout_prob = 1.0\n",
        "\n",
        "# Create LSTM model object\n",
        "model = get_LSTM_Model(layer_num, history_points, features_num,predict_range,optimizer,dropout_prob)\n",
        "\n",
        "# Parameter for model training\n",
        "batch_size = 10\n",
        "epoch = 10\n",
        "# Train model with our train data\n",
        "model.fit(x=ohlcv_train, y=y_train, batch_size=batch_size, epochs=epoch, shuffle=True, validation_split=0.1)\n",
        "\n",
        "# The model is train. Test with the test dataset\n",
        "y_test_predicted = model.predict(ohlcv_test)\n",
        "# Scale up the result to actual value with y_normaliser that we use earlier\n",
        "y_test_predicted = y_normaliser.inverse_transform(y_test_predicted)\n",
        "\n",
        "# Calculate the error with MSE\n",
        "real_mse = np.mean(np.square(unscaled_y_test - y_test_predicted))\n",
        "scaled_mse = real_mse / (np.max(unscaled_y_test) - np.min(unscaled_y_test)) * 100\n",
        "\n",
        "print('scaled_mse = ' + str(scaled_mse))"
      ],
      "execution_count": 0,
      "outputs": [
        {
          "output_type": "stream",
          "text": [
            "Train on 5030 samples, validate on 559 samples\n",
            "Epoch 1/10\n",
            "5030/5030 [==============================] - 7s 1ms/step - loss: 0.0039 - val_loss: 9.9107e-04\n",
            "Epoch 2/10\n",
            "5030/5030 [==============================] - 6s 1ms/step - loss: 1.9327e-04 - val_loss: 0.0011\n",
            "Epoch 3/10\n",
            "5030/5030 [==============================] - 6s 1ms/step - loss: 1.6206e-04 - val_loss: 5.4024e-04\n",
            "Epoch 4/10\n",
            "5030/5030 [==============================] - 6s 1ms/step - loss: 1.4546e-04 - val_loss: 4.7951e-04\n",
            "Epoch 5/10\n",
            "5030/5030 [==============================] - 6s 1ms/step - loss: 1.5607e-04 - val_loss: 4.6622e-04\n",
            "Epoch 6/10\n",
            "5030/5030 [==============================] - 6s 1ms/step - loss: 1.2930e-04 - val_loss: 3.8459e-04\n",
            "Epoch 7/10\n",
            "5030/5030 [==============================] - 6s 1ms/step - loss: 1.3574e-04 - val_loss: 6.1380e-04\n",
            "Epoch 8/10\n",
            "5030/5030 [==============================] - 6s 1ms/step - loss: 1.1526e-04 - val_loss: 4.1307e-04\n",
            "Epoch 9/10\n",
            "5030/5030 [==============================] - 6s 1ms/step - loss: 9.0644e-05 - val_loss: 4.3760e-04\n",
            "Epoch 10/10\n",
            "5030/5030 [==============================] - 6s 1ms/step - loss: 8.3425e-05 - val_loss: 2.7494e-04\n",
            "scaled_mse = 6.17728004694644\n"
          ],
          "name": "stdout"
        }
      ]
    },
    {
      "cell_type": "code",
      "metadata": {
        "id": "isZBlyFgJwzt",
        "colab_type": "code",
        "colab": {}
      },
      "source": [
        "# Visualize the predicted price and the actual price\n",
        "def display_test_validation_graph(unscaled_y_test, y_test_predicted):\n",
        "    '''\n",
        "        Display the plot of the stock price in test dataset and the predicted data.\n",
        "\n",
        "        Input\n",
        "        - unscaled_y_test (Array) : The array of stock price in test dataset.\n",
        "        - y_test_predicted (Array) : The array of stock price as predicted.\n",
        "\n",
        "        Output\n",
        "        - No return value.\n",
        "        - The plot will be displayed on the screen.\n",
        "    '''\n",
        "    plt.gcf().set_size_inches(22, 15, forward=True)\n",
        "\n",
        "    start = 0\n",
        "    end = -1\n",
        "\n",
        "    real = plt.plot(unscaled_y_test[start:end], label='real')\n",
        "    pred = plt.plot(y_test_predicted[start:end], label='predicted')\n",
        "\n",
        "    plt.legend(['Real', 'Predicted'])\n",
        "\n",
        "    plt.show()\n",
        "\n"
      ],
      "execution_count": 0,
      "outputs": []
    },
    {
      "cell_type": "code",
      "metadata": {
        "id": "DdHeEfY3hc0D",
        "colab_type": "code",
        "outputId": "1e51d489-df23-4f42-9662-460a50aa439c",
        "colab": {
          "base_uri": "https://localhost:8080/",
          "height": 863
        }
      },
      "source": [
        "display_test_validation_graph(unscaled_y_test,y_test_predicted)"
      ],
      "execution_count": 0,
      "outputs": [
        {
          "output_type": "display_data",
          "data": {
            "image/png": "[encoded data removed]",
            "text/plain": [
              "<Figure size 1584x1080 with 1 Axes>"
            ]
          },
          "metadata": {
            "tags": [],
            "needs_background": "light"
          }
        }
      ]
    },
    {
      "cell_type": "markdown",
      "metadata": {
        "id": "CoyQomI2Ndae",
        "colab_type": "text"
      },
      "source": [
        "***1.4 Optimize parameters for 1 day prediction***\n",
        "\n",
        "Next steps, I will try to optimize the model for 1 day prediction by looping thru the range of value for each parameter, use the value of each iteration to train the model and record the accuracy. So, I'll encapsulate the sequences of function call to be one function for better read ability and also create function for tuning each parameter.\n",
        "\n",
        "1. **dataset_preparation** : This function uses to prepare data per given file path or given dataframe.\n",
        "\n",
        "2. **train_predictor** : This function uses to train the model by being able to define the parameters for building the model and train the model. The function will also build LSTM model by using get_LSTM_Model function as defined earlier. \n",
        "\n",
        "3. **train_and_validate_stock_predictor** : This function will encapsulate all of the steps from data preparation, build model, train and calcurate accuracy. The function will return the trained model and the scaled mse of the model.\n",
        "\n",
        "4. **add_macd_ema** : This function will calculate some of technical analysis indicators and add to the input stock dataframe. In this case, I use MACD and EMA."
      ]
    },
    {
      "cell_type": "code",
      "metadata": {
        "id": "buLJCoyhSQ29",
        "colab_type": "code",
        "colab": {}
      },
      "source": [
        "def dataset_preparation(filename, history_points, predict_range, y_normaliser, mode='file', df=None):\n",
        "    '''\n",
        "      This function will prepare data and make it ready for training and testing the model by receiving the CSV file path or dataframe \n",
        "      equivalent to Yahoo Finance's historical data with other parameters, normalize to 0-1 range value, separate into train and test and return the result.\n",
        "\n",
        "      Input:\n",
        "      - filename (String) : The file path for csv file containing historical stock data downloaded from Yahoo Finance. \n",
        "      - history_points (Number) : The number of day range for historical data to be used for training the model.\n",
        "      - predict_range (Number) : The range of day to forecast the price.\n",
        "      - y_normmalizer (preprocessing.MinMaxScaler Object) :  Preprocessor for normalize the price for forecast data to be 0-1. We need this so that we could use it again for scaling up the data back to normal value.\n",
        "      - df (DataFrame) : The dataframe input of the dataset. If the filename is passed and the mode is set to'file' it will be ignored.\n",
        "      - mode : If it is 'file' the function will ignore df otherwise it will assume that df will be provided for preparation. This is used in the case that the data is read from CSV and append with other data features.\n",
        "\n",
        "      Output:\n",
        "      - ohlcv_histories_normalised (Array) : Array of the data features. One row consist of [day-1-open,day-1-max,day-1-min,...day-history_point ].\n",
        "      - next_day_adjclose_values_normalised (Array) : Array of normalised Adj Close values transformed in the format of [day1-adj close,day2-adj close....day-predict_range adj close].\n",
        "      - next_day_adjclose_values (Array) : Array of actual Adj Close values transformed in the format of [day1-adj close,day2-adj close....day-predict_range adj close].\n",
        "      - y_normaliser (preprocessing.MinMaxScaler Object) : After we fit the actual value, we return it back so that it can be used again to scale the normalized result.\n",
        "    '''\n",
        "\n",
        "    # Prepare data per mode - file or dataframe input\n",
        "    if mode=='file':\n",
        "      # If it is file mode the function expect CSV file path to read the data\n",
        "      df = pd.read_csv(filename)\n",
        "\n",
        "    # For both mode, we will drop row with null value as we can't use it anyway\n",
        "    df_na = df.dropna(axis=0)\n",
        "    # Drop Date as this is time series data, Date isn't used. Also drop Close as we will predict Adj Close.\n",
        "    df_na = df_na.drop(['Date','Close'],axis=1)\n",
        "\n",
        "    # Normalise all data to the value range of 0-1 as neural network algorithm has better performance with this data range\n",
        "    data_normaliser = preprocessing.MinMaxScaler()\n",
        "    data_normalised = data_normaliser.fit_transform(df_na)\n",
        "\n",
        "    # Prepare the data in the format of [day-1-open,day-1-max,day-1-min,...day-history_point ] as 1 row input for predict the 'predict_range' price for train and test\n",
        "    ohlcv_histories_normalised = np.array([data_normalised[i  : i + history_points].copy() for i in range(len(data_normalised) - history_points - predict_range +1)])\n",
        "\n",
        "    # Get the actual price [day1-adj close,day2-adj close....day-predict_range adj close] for train and test\n",
        "    next_day_adjclose_values_normalised = np.array([data_normalised[i + history_points:i + history_points + predict_range,3].copy() for i in range(len(data_normalised) - history_points - predict_range+1)])\n",
        "\n",
        "    # Create the same array as the normalised adj close but with the actual value not the scaled down value. This is used to calculate the prediction accuracy\n",
        "    next_day_adjclose_values = np.array([df_na.iloc[i + history_points:i + history_points+predict_range]['Adj Close'].values.copy() for i in range(len(df_na) - history_points - predict_range+1)])    \n",
        "\n",
        "    # Use the passed normaliser to fit the actual value so that we can scale the predicted result back to actual value\n",
        "    y_normaliser.fit(next_day_adjclose_values)\n",
        "\n",
        "    return ohlcv_histories_normalised, next_day_adjclose_values_normalised, next_day_adjclose_values, y_normaliser\n",
        "\n",
        "def train_predictor(ohlcv_train,y_train,ohlcv_test,y_normaliser,unscaled_y_test,hidden_layer,batch_size,epoch,dropout_probability,history_points,features_num,predict_range):\n",
        "    '''\n",
        "        Create LSTM model per provideded parameter, fit the train data and validate its accuracy using MSE.\n",
        "        Finally, retrun the result of MSE and the model object.\n",
        "\n",
        "        Input\n",
        "        - ohlcv_train (Array) : Train dataset in array.\n",
        "        - y_train (Array) : Train dataset result in array.\n",
        "        - ohlcv_test (Array) : Test dataset in array.\n",
        "        - y_normaliser (preprocessing.MinMaxScaler Object) : The normaliser instance that is used to scale down y_test. We will use it to scale up the result from test dataset.\n",
        "        - unscaled_y_test (Array) : The unscaled y_test using for validate the result.\n",
        "        - hidden_layer (Number) : LSTM parameter's number of hidden layer.\n",
        "        - batch_size (Number) : LSTM parameter's number of batch size.\n",
        "        - epoch (Number) : LSTM parameter's number of epoch.\n",
        "        - dropout_probability (Float) : LSTM parameter's dropout probability.\n",
        "        - history_points (Number) : LSTM parameter's the number of history data to train the model in each iteration.\n",
        "        - features_num (Number) : LSTM parameter's the number of features in the dataset.\n",
        "        - predict_range : LSTM parameter's the number of predict data to be predicted.\n",
        "\n",
        "        Output\n",
        "        - model (Object) : LSTM model which can be saved to h5 or use to predict the result with the new dataset.\n",
        "        - scaled_mse (Float) : Mean Squared Error of the model measured by using the unscaled result from test dataset minus the unscaled_y_test\n",
        "\n",
        "    '''\n",
        "    # Build model \n",
        "    model = get_LSTM_Model(hidden_layer,history_points,features_num,predict_range,'adam',dropout_probability)\n",
        "    # Train model with the train data set\n",
        "    model.fit(x=ohlcv_train, y=y_train, batch_size=batch_size, epochs=epoch, shuffle=True, validation_split=0.1,verbose=0)\n",
        "\n",
        "    # Get the predict result by using test dataset\n",
        "    y_test_predicted = model.predict(ohlcv_test)\n",
        "    # Scale up the test result\n",
        "    y_test_predicted = y_normaliser.inverse_transform(y_test_predicted)\n",
        "\n",
        "    # Calculate the mse\n",
        "    real_mse = np.mean(np.square(unscaled_y_test - y_test_predicted))\n",
        "    scaled_mse = real_mse / (np.max(unscaled_y_test) - np.min(unscaled_y_test)) * 100\n",
        "\n",
        "    return model, scaled_mse\n",
        "\n",
        "def train_and_validate_stock_predictor(stock,history_points,predict_range,hidden_layer,batch_size,epoch,dropout_probability, mode='file'):\n",
        "    '''\n",
        "        Encapsulate all activities to create LSTM model to predict the stock with parameters as provided.\n",
        "        There are 2 mode for this function. mode='file' will read data from csv file and not add additional features like macd and EMA\n",
        "        while other mode will read data from csv but also add macd and EMA as additional features.\n",
        "        Starting from transforming data, splitting to train/test, build and fit model, evaluate the model accuracy and return result.\n",
        "\n",
        "        Input\n",
        "        - stock (String) : Ticker per Yahoo Finance.\n",
        "        - history_points (Number) : LSTM parameter's the number of history data to train the model in each iteration.\n",
        "        - predict_range : LSTM parameter's the number of predict data to be predicted.\n",
        "        - hidden_layer (Number) : LSTM parameter's number of hidden layer.\n",
        "        - batch_size (Number) : LSTM parameter's number of batch size.\n",
        "        - epoch (Number) : LSTM parameter's number of epoch.\n",
        "        - dropout_probability (Float) : LSTM parameter's dropout probability.\n",
        "\n",
        "        Output\n",
        "        - model (Object) : LSTM model which can be saved to h5 or use to predict the result with the new dataset.\n",
        "        - scaled_mse (Float) : Mean Squared Error of the model measured by using the unscaled result from test dataset minus the unscaled_y_test\n",
        "    '''\n",
        "    # If mode is file the data will be read from file which is expected to be at the path per gdrive_path definition\n",
        "    if mode=='file':\n",
        "        # In this case features number will be 5 \n",
        "        features_num = 5\n",
        "        # Prepare data\n",
        "        ohlcv_histories, next_day_adj_close, unscaled_y, y_normaliser = dataset_preparation(gdrive_path+stock+'.csv',history_points,predict_range,preprocessing.MinMaxScaler())\n",
        "    else:\n",
        "    # Dataframe mode, in this mode MACD and EMA will be add to the input DataFrame as additional features\n",
        "        df = add_macd_ema(pd.read_csv(gdrive_path+stock+'.csv'))\n",
        "        # Prepare data\n",
        "        ohlcv_histories, next_day_adj_close, unscaled_y, y_normaliser = dataset_preparation('',history_points,predict_range,preprocessing.MinMaxScaler(),mode='df',df=df)\n",
        "        # In this case features number will equall to DataFrame's columns minus 2 (we drop in dataset_preparation Date and Close)\n",
        "        features_num = len(df.columns)-2\n",
        "\n",
        "    # Split train and test data\n",
        "    ohlcv_train, ohlcv_test, y_test, y_train, unscaled_y_test = train_test_split(ohlcv_histories,next_day_adj_close,unscaled_y)\n",
        "\n",
        "    # Build, train, test and return mode and MSE\n",
        "    model, scaled_mse = train_predictor(ohlcv_train,y_train,ohlcv_test,y_normaliser,unscaled_y_test,hidden_layer,batch_size,epoch,dropout_probability,history_points,features_num,predict_range)\n",
        "    return model, scaled_mse\n",
        "\n",
        "def add_macd_ema(df,ema1=20,ema2=50):\n",
        "    '''\n",
        "        Compute stock technical analysis indicator - MACD and EMA and add back to the dataset\n",
        "\n",
        "        Input\n",
        "        - df (DataFrame) : The DataFrame of stock data as downloaded from Yahoo Finance\n",
        "        - ema1 (Number) : The first EMA period to add to the dataset\n",
        "        - ema2 (Number) : The second EMA period to add to the dataset\n",
        "\n",
        "        Output\n",
        "        - df (DataFrame) : The DataFrame with new columns added - MACD, ema1 and ema2 e.g. MACD, 20, 50 are the default column name that will be added\n",
        "    '''\n",
        "    # Extract Close data to calculate MACD\n",
        "    df_close = df[['Close']]\n",
        "    df_close.reset_index(level=0, inplace=True)\n",
        "    df_close.columns=['ds','y']\n",
        "\n",
        "    # Calculate MACD by using DataFrame's EWM https://pandas.pydata.org/pandas-docs/stable/reference/api/pandas.DataFrame.ewm.html\n",
        "    exp1 = df_close.y.ewm(span=12, adjust=False).mean()\n",
        "    exp2 = df_close.y.ewm(span=26, adjust=False).mean()\n",
        "    macd = exp1-exp2\n",
        "\n",
        "    # Merge MACD back as new column to the input df\n",
        "    df = pd.merge(df,macd,how='left',left_on=None, right_on=None, left_index=True, right_index=True)\n",
        "\n",
        "    # Rename DataFrame columns\n",
        "    df.columns = ['Date','Open','High','Low','Close','Adj Close','Volume','MACD']\n",
        "\n",
        "    # Add new columns using EMA windwos size. EWM can use directly.\n",
        "    df[ema1] = df['Close'].ewm(span=ema1, adjust=False).mean()\n",
        "    df[ema2] = df['Close'].ewm(span=ema2, adjust=False).mean()\n",
        "\n",
        "    return df"
      ],
      "execution_count": 0,
      "outputs": []
    },
    {
      "cell_type": "markdown",
      "metadata": {
        "id": "gqcdCAaZVtDJ",
        "colab_type": "text"
      },
      "source": [
        "With these functions as foundation, I create another functions to find the best parameter value for build and train the model. The following functions will write the scaled MSE of each parameter value.\n",
        "\n",
        "Recommend to mount Google Drive to write the result and mot losing it due to the notebook instance getting expired.\n",
        "\n",
        "Next, we will iterate each parameter value range while keep other parameters at lowest to find the best value of the particular parameter. \n",
        "\n",
        "As we will have run thru these steps many times, I encapsulate each step to find the best value for each parameters into functions."
      ]
    },
    {
      "cell_type": "code",
      "metadata": {
        "id": "1VHbDe60Jdy5",
        "colab_type": "code",
        "colab": {}
      },
      "source": [
        "def get_best_hidden_layer(predict_range, max_hidden_layer, stock_list, history_points=30, batch_size=10,epoch=10,dropout_probability=1.0,mode='file'):\n",
        "  '''\n",
        "    This function loop thru the range of hidden_layer from 10 to MAX_HIDDEN_LAYER for 10 iterations \n",
        "    to calculate MSE for each hidden_layer.\n",
        "\n",
        "    Input:\n",
        "    - predict_range (Number) : Range of day to do prediction.\n",
        "    - max_hidden_layer (Number) : The max number of hidden layer.\n",
        "    - stock_list (Array) : List of stock to loop thru and calculaute MSE.\n",
        "    - history_points (Number) : History points for preparing the data, training and validating the model. Default is 30.\n",
        "    - batch_size (Number) : Size of batch for training the model. The default is 10.\n",
        "    - epoch (Number) : Number of epoch for training the model. The default is 10.\n",
        "    - dropout_probability (Float) : The propability of the dropout layer of the LSTM. The default is 1.0.\n",
        "    - mode (String) : The mode for adding MACD and EMA or not. Defult if 'file' meaning not add these features.\n",
        "\n",
        "    Output:\n",
        "    - No return value\n",
        "    - The MSE of each hidden_layer value will be written to CSV output file on Google Drive.\n",
        "    \n",
        "  '''\n",
        "  mse_list = []\n",
        "  exception_list = []\n",
        "\n",
        "  for hidden_layer in range(10,max_hidden_layer+1,round(max_hidden_layer/10)):\n",
        "    for stock in stock_list:\n",
        "      try:  \n",
        "        model, scaled_mse = train_and_validate_stock_predictor(stock,history_points,predict_range,hidden_layer,batch_size,epoch,dropout_probability,mode)\n",
        "        print(\"Predict {} days for {} with MSE = {}\".format(str(predict_range),str(stock),str(scaled_mse)))\n",
        "        mse_list.append([hidden_layer,stock,scaled_mse])\n",
        "        pd.DataFrame(mse_list).to_csv('/content/drive/My Drive/Colab Notebooks/stocklist_'+str(predict_range)+'_mse_layer_'+mode+'.csv')\n",
        "      except Exception as e:\n",
        "        print(\"exception \"+str(e)+\"on \"+stock)\n",
        "        exception_list.append([predict_range,stock,str(e)])\n",
        "        pd.DataFrame(exception_list).to_csv('/content/drive/My Drive/Colab Notebooks/exception_list.csv')\n",
        "        continue\n",
        "\n",
        "def get_best_history_points(predict_range, max_history_points, stock_list, hidden_layer=10, batch_size=10,epoch=10,dropout_probability=1.0,mode='file'):\n",
        "  '''\n",
        "    This function loop thru the range of history_points from 10 to max_history_points for 10 iterations \n",
        "    to calculate MSE for each history_points.\n",
        "\n",
        "    Input:\n",
        "    - predict_range (Number) : Range of day to do prediction.\n",
        "    - max_history_points (Number) : The max number of hidden points for preparing the data, train and test the model.\n",
        "    - stock_list (Array) : List of stock to loop thru and calculaute MSE.\n",
        "    - hidden_layer (Number) : Number of layer for building the model.\n",
        "    - batch_size (Number) : Size of batch for training the model. The default is 10.\n",
        "    - epoch (Number) : Number of epoch for training the model. The default is 10.\n",
        "    - dropout_probability (Float) : The propability of the dropout layer of the LSTM. The default is 1.0.\n",
        "    - mode (String) : The mode for adding MACD and EMA or not. Defult if 'file' meaning not add these features.\n",
        "\n",
        "    Output:\n",
        "    - No return value\n",
        "    - The MSE of each hidden_layer value will be written to CSV output file on Google Drive.\n",
        "    \n",
        "  '''\n",
        "  mse_list = []\n",
        "  exception_list = [] \n",
        "\n",
        "  for history_points in range(30,max_history_points+1,round(max_history_points/10)):\n",
        "    for stock in stock_list:\n",
        "      try:  \n",
        "        model, scaled_mse = train_and_validate_stock_predictor(stock,history_points,predict_range,hidden_layer,batch_size,epoch,dropout_probability,mode)\n",
        "        print(\"Predict {} days for {} with MSE = {}\".format(str(predict_range),str(stock),str(scaled_mse)))\n",
        "        mse_list.append([history_points,stock,scaled_mse])\n",
        "        pd.DataFrame(mse_list).to_csv('/content/drive/My Drive/Colab Notebooks/stocklist_'+str(predict_range)+'_mse_history_'+mode+'.csv')\n",
        "      except Exception as e:\n",
        "        print(\"exception \"+str(e)+\"on \"+stock)\n",
        "        exception_list.append([predict_range,stock,str(e)])\n",
        "        pd.DataFrame(exception_list).to_csv('/content/drive/My Drive/Colab Notebooks/exception_list.csv')\n",
        "        continue\n",
        "\n",
        "def get_best_batch_size(predict_range, max_batch_size, stock_list, hidden_layer=10, history_points=30, batch_size=10,epoch=10,dropout_probability=1.0,mode='file'):\n",
        "  '''\n",
        "    This function loop thru the range of batch_size from 10 to max_batch_size for 10 iterations \n",
        "    to calculate MSE for each batch_size.\n",
        "\n",
        "    Input:\n",
        "    - predict_range (Number) : Range of day to do prediction.\n",
        "    - max_batch_size (Number) : The max size of batch for training the model.\n",
        "    - stock_list (Array) : List of stock to loop thru and calculaute MSE.\n",
        "    - hidden_layer (Number) : Number of layer for building the model.\n",
        "    - history_points (Number) : History points for preparing the data, training and validating the model. Default is 30.\n",
        "    - batch_size (Number) : Size of batch for training the model. The default is 10.\n",
        "    - epoch (Number) : Number of epoch for training the model. The default is 10.\n",
        "    - dropout_probability (Float) : The propability of the dropout layer of the LSTM. The default is 1.0.\n",
        "    - mode (String) : The mode for adding MACD and EMA or not. Defult if 'file' meaning not add these features.\n",
        "\n",
        "    Output:\n",
        "    - No return value\n",
        "    - The MSE of each hidden_layer value will be written to CSV output file on Google Drive.\n",
        "    \n",
        "  '''\n",
        "  mse_list = []\n",
        "  exception_list = [] \n",
        "\n",
        "  for batch_size in range(10,max_batch_size+1,round(max_batch_size/10)):\n",
        "    for stock in stock_list:\n",
        "      try:  \n",
        "        model, scaled_mse = train_and_validate_stock_predictor(stock,history_points,predict_range,hidden_layer,batch_size,epoch,dropout_probability,mode)\n",
        "        print(\"Predict {} days for {} with MSE = {}\".format(str(predict_range),str(stock),str(scaled_mse)))\n",
        "        mse_list.append([batch_size,stock,scaled_mse])\n",
        "        pd.DataFrame(mse_list).to_csv('/content/drive/My Drive/Colab Notebooks/stocklist_'+str(predict_range)+'_mse_batch_'+mode+'.csv')\n",
        "      except Exception as e:\n",
        "        print(\"exception \"+str(e)+\"on \"+stock)\n",
        "        exception_list.append([predict_range,stock,str(e)])\n",
        "        pd.DataFrame(exception_list).to_csv('/content/drive/My Drive/Colab Notebooks/exception_list.csv')\n",
        "        continue\n",
        "  \n",
        "def get_best_dropout_prob(predict_range, stock_list, hidden_layer=10, history_points=30, batch_size=10,epoch=10,dropout_probability=1.0,mode='file'):\n",
        "  '''\n",
        "    This function loop thru the range of dropout_probability to calculate MSE for each dropout_probability.\n",
        "\n",
        "    Input:\n",
        "    - predict_range (Number) : Range of day to do prediction.\n",
        "    - stock_list (Array) : List of stock to loop thru and calculaute MSE.\n",
        "    - hidden_layer (Number) : Number of layer for building the model.\n",
        "    - history_points (Number) : History points for preparing the data, training and validating the model. Default is 30.\n",
        "    - batch_size (Number) : Size of batch for training the model. The default is 10.\n",
        "    - epoch (Number) : Number of epoch for training the model. The default is 10.\n",
        "    - dropout_probability (Float) : The propability of the dropout layer of the LSTM. The default is 1.0.\n",
        "    - mode (String) : The mode for adding MACD and EMA or not. Defult if 'file' meaning not add these features.\n",
        "\n",
        "    Output:\n",
        "    - No return value\n",
        "    - The MSE of each hidden_layer value will be written to CSV output file on Google Drive.\n",
        "    \n",
        "  '''\n",
        "  mse_list = []\n",
        "  exception_list = [] \n",
        "\n",
        "  for dropout_probability in [0.1,0.3,0.5,0.8,1.0]:\n",
        "    for stock in stock_list:\n",
        "      try:  \n",
        "        model, scaled_mse = train_and_validate_stock_predictor(stock,history_points,predict_range,hidden_layer,batch_size,epoch,dropout_probability,mode)\n",
        "        print(\"Predict {} days for {} with MSE = {}\".format(str(predict_range),str(stock),str(scaled_mse)))\n",
        "        mse_list.append([dropout_probability,stock,scaled_mse])\n",
        "        pd.DataFrame(mse_list).to_csv('/content/drive/My Drive/Colab Notebooks/stocklist_'+str(predict_range)+'_mse_dropprob_'+mode+'.csv')\n",
        "      except Exception as e:\n",
        "        print(\"exception \"+str(e)+\"on \"+stock)\n",
        "        exception_list.append([predict_range,stock,str(e)])\n",
        "        pd.DataFrame(exception_list).to_csv('/content/drive/My Drive/Colab Notebooks/exception_list.csv')\n",
        "        continue\n",
        "\n",
        "def get_best_epoch(predict_range, max_epoch, hidden_layer=10, history_points=30, batch_size=10,dropout_probability=1.0,mode='file'):\n",
        "  '''\n",
        "    This function loop thru the range of epoch from 10 to max_epoch for 10 iterations \n",
        "    to calculate MSE for each max_epoch.\n",
        "\n",
        "    Input:\n",
        "    - predict_range (Number) : Range of day to do prediction.\n",
        "    - max_epoch (Number) : The max size of epoch for training the model.\n",
        "    - stock_list (Array) : List of stock to loop thru and calculaute MSE.\n",
        "    - hidden_layer (Number) : Number of layer for building the model.\n",
        "    - history_points (Number) : History points for preparing the data, training and validating the model. Default is 30.\n",
        "    - batch_size (Number) : Size of batch for training the model. The default is 10.\n",
        "    - dropout_probability (Float) : The propability of the dropout layer of the LSTM. The default is 1.0.\n",
        "    - mode (String) : The mode for adding MACD and EMA or not. Defult if 'file' meaning not add these features.\n",
        "\n",
        "    Output:\n",
        "    - No return value\n",
        "    - The MSE of each hidden_layer value will be written to CSV output file on Google Drive.\n",
        "    \n",
        "  '''\n",
        "  mse_list = []\n",
        "  exception_list = [] \n",
        "\n",
        "  for epoch in range(10,max_epoch+1,round(max_epoch/10)):\n",
        "    for stock in stock_list:\n",
        "      try:  \n",
        "        model, scaled_mse = train_and_validate_stock_predictor(stock,history_points,predict_range,hidden_layer,batch_size,epoch,dropout_probability,mode)\n",
        "        print(\"Predict {} days for {} with MSE = {}\".format(str(predict_range),str(stock),str(scaled_mse)))\n",
        "        mse_list.append([epoch,stock,scaled_mse])\n",
        "        pd.DataFrame(mse_list).to_csv('/content/drive/My Drive/Colab Notebooks/stocklist_'+str(predict_range)+'_mse_epoch_'+mode+'.csv')\n",
        "      except Exception as e:\n",
        "        print(\"exception \"+str(e)+\"on \"+stock)\n",
        "        exception_list.append([predict_range,stock,str(e)])\n",
        "        pd.DataFrame(exception_list).to_csv('/content/drive/My Drive/Colab Notebooks/exception_list.csv')\n",
        "        continue"
      ],
      "execution_count": 0,
      "outputs": []
    },
    {
      "cell_type": "markdown",
      "metadata": {
        "id": "MuNlj2NKAKy8",
        "colab_type": "text"
      },
      "source": [
        "Starting with running all these functions to see which parameter and which of its value give the lowest MSE."
      ]
    },
    {
      "cell_type": "code",
      "metadata": {
        "id": "jcMrlMA1bcBX",
        "colab_type": "code",
        "outputId": "78ad1c91-bfb3-44e2-be2a-066da05cbe76",
        "colab": {
          "base_uri": "https://localhost:8080/",
          "height": 748
        }
      },
      "source": [
        "# 1st Round run all get best parameter function to find the best performer\n",
        "predict_range = 1\n",
        "max_hidden_layer = 100\n",
        "max_history_points = 100\n",
        "max_batch_size = 100\n",
        "max_epoch = 100\n",
        "\n",
        "stock_list = ['INTUCH.BK']\n",
        "\n",
        "get_best_hidden_layer(predict_range, max_hidden_layer, stock_list)\n",
        "get_best_history_points(predict_range, max_history_points, stock_list)\n",
        "get_best_batch_size(predict_range, max_batch_size, stock_list)\n",
        "get_best_dropout_prob(predict_range, stock_list)\n",
        "get_best_epoch(predict_range, max_epoch)"
      ],
      "execution_count": 0,
      "outputs": [
        {
          "output_type": "stream",
          "text": [
            "Predict 1 days for INTUCH.BK with MSE = 5.437020560606206\n",
            "Predict 1 days for INTUCH.BK with MSE = 4.789881003383009\n",
            "Predict 1 days for INTUCH.BK with MSE = 6.419029833424765\n",
            "Predict 1 days for INTUCH.BK with MSE = 11.030013748353054\n",
            "Predict 1 days for INTUCH.BK with MSE = 15.586890158371489\n",
            "Predict 1 days for INTUCH.BK with MSE = 5.126618152750369\n",
            "Predict 1 days for INTUCH.BK with MSE = 4.244161823471961\n",
            "Predict 1 days for INTUCH.BK with MSE = 3.804861242754052\n",
            "Predict 1 days for INTUCH.BK with MSE = 3.8394154365567417\n",
            "Predict 1 days for INTUCH.BK with MSE = 3.7218740547398146\n",
            "Predict 1 days for INTUCH.BK with MSE = 8.530680191531463\n",
            "Predict 1 days for INTUCH.BK with MSE = 5.343105265934106\n",
            "Predict 1 days for INTUCH.BK with MSE = 5.6027384517625975\n",
            "Predict 1 days for INTUCH.BK with MSE = 5.09464684124055\n",
            "Predict 1 days for INTUCH.BK with MSE = 6.221215812694935\n",
            "Predict 1 days for INTUCH.BK with MSE = 6.493592533132878\n",
            "Predict 1 days for INTUCH.BK with MSE = 9.613755600348895\n",
            "Predict 1 days for INTUCH.BK with MSE = 47.55705501775843\n",
            "Predict 1 days for INTUCH.BK with MSE = 9.951604702486657\n",
            "Predict 1 days for INTUCH.BK with MSE = 10.486658001231199\n",
            "Predict 1 days for INTUCH.BK with MSE = 51.65943372582827\n",
            "Predict 1 days for INTUCH.BK with MSE = 23.825370427253073\n",
            "Predict 1 days for INTUCH.BK with MSE = 39.5386841263463\n",
            "Predict 1 days for INTUCH.BK with MSE = 41.681255819326765\n",
            "Predict 1 days for INTUCH.BK with MSE = 82.24357605087255\n",
            "Predict 1 days for INTUCH.BK with MSE = 15.388536840163116\n",
            "Predict 1 days for INTUCH.BK with MSE = 7.765515744871128\n",
            "Predict 1 days for INTUCH.BK with MSE = 24.809722107289208\n",
            "Predict 1 days for INTUCH.BK with MSE = 19.970239468137482\n",
            "Predict 1 days for INTUCH.BK with MSE = 17.096660739897505\n",
            "Predict 1 days for INTUCH.BK with MSE = 305.96155865623786\n",
            "Predict 1 days for INTUCH.BK with MSE = 912.4102815076244\n",
            "Predict 1 days for INTUCH.BK with MSE = 5.916837987068607\n",
            "Predict 1 days for INTUCH.BK with MSE = 5.7653179098616265\n",
            "Predict 1 days for INTUCH.BK with MSE = 6.540321630379106\n",
            "Predict 1 days for INTUCH.BK with MSE = 4.557350528106367\n",
            "Predict 1 days for INTUCH.BK with MSE = 3.571707041892084\n",
            "Predict 1 days for INTUCH.BK with MSE = 4.780324808263035\n",
            "Predict 1 days for INTUCH.BK with MSE = 3.0478393801141666\n",
            "Predict 1 days for INTUCH.BK with MSE = 4.9896552686104805\n",
            "Predict 1 days for INTUCH.BK with MSE = 3.401886226369745\n",
            "Predict 1 days for INTUCH.BK with MSE = 2.816548957072759\n",
            "Predict 1 days for INTUCH.BK with MSE = 2.85178282007372\n"
          ],
          "name": "stdout"
        }
      ]
    },
    {
      "cell_type": "markdown",
      "metadata": {
        "id": "sPFE_dFdAze0",
        "colab_type": "text"
      },
      "source": [
        "From first round of tune we found that epoch = 90 has the lowest MSE at ~2.85%\n",
        "\n",
        "We will run all functions except epoch again and also fix epoch value at 60 as input to all functions. This is to find other parameters that could decrease MSE further."
      ]
    },
    {
      "cell_type": "code",
      "metadata": {
        "id": "11oU8vFFv4Pi",
        "colab_type": "code",
        "outputId": "5e6b27b9-8917-4b5b-ac45-8345797237b5",
        "colab": {
          "base_uri": "https://localhost:8080/",
          "height": 578
        }
      },
      "source": [
        "# 2nd round. Fix epoch at 90 and run other get best parameters function to improve further.\n",
        "# Target is to lower MSE than 2.85%\n",
        "\n",
        "predict_range = 1\n",
        "max_hidden_layer = 100\n",
        "max_history_points = 100\n",
        "max_batch_size = 100\n",
        "epoch = 90\n",
        "\n",
        "stock_list = ['INTUCH.BK']\n",
        "\n",
        "get_best_hidden_layer(predict_range, max_hidden_layer, stock_list , epoch = epoch)\n",
        "get_best_history_points(predict_range, max_history_points, stock_list, epoch = epoch)\n",
        "get_best_batch_size(predict_range, max_batch_size, stock_list, epoch = epoch)\n",
        "get_best_dropout_prob(predict_range, stock_list, epoch = epoch)"
      ],
      "execution_count": 0,
      "outputs": [
        {
          "output_type": "stream",
          "text": [
            "Predict 1 days for INTUCH.BK with MSE = 4.19634685815648\n",
            "Predict 1 days for INTUCH.BK with MSE = 4.8248578781579194\n",
            "Predict 1 days for INTUCH.BK with MSE = 2.8311195256984294\n",
            "Predict 1 days for INTUCH.BK with MSE = 4.1369247583570505\n",
            "Predict 1 days for INTUCH.BK with MSE = 2.8889748118049803\n",
            "Predict 1 days for INTUCH.BK with MSE = 3.730403027303463\n",
            "Predict 1 days for INTUCH.BK with MSE = 3.7048148909005216\n",
            "Predict 1 days for INTUCH.BK with MSE = 3.2436087922250905\n",
            "Predict 1 days for INTUCH.BK with MSE = 3.07670312217347\n",
            "Predict 1 days for INTUCH.BK with MSE = 5.036327039412631\n",
            "Predict 1 days for INTUCH.BK with MSE = 3.0923898371062646\n",
            "Predict 1 days for INTUCH.BK with MSE = 2.921250823757324\n",
            "Predict 1 days for INTUCH.BK with MSE = 3.2924466655881104\n",
            "Predict 1 days for INTUCH.BK with MSE = 3.67041754160447\n",
            "Predict 1 days for INTUCH.BK with MSE = 2.799535718501062\n",
            "Predict 1 days for INTUCH.BK with MSE = 2.9393532321948452\n",
            "Predict 1 days for INTUCH.BK with MSE = 2.899471429293753\n",
            "Predict 1 days for INTUCH.BK with MSE = 3.8197330399823683\n",
            "Predict 1 days for INTUCH.BK with MSE = 3.0284562494628826\n",
            "Predict 1 days for INTUCH.BK with MSE = 2.8503514999468593\n",
            "Predict 1 days for INTUCH.BK with MSE = 3.3056051464626113\n",
            "Predict 1 days for INTUCH.BK with MSE = 3.2441229010733195\n",
            "Predict 1 days for INTUCH.BK with MSE = 4.718299591642125\n",
            "Predict 1 days for INTUCH.BK with MSE = 6.740322540089509\n",
            "Predict 1 days for INTUCH.BK with MSE = 4.492632150871228\n",
            "Predict 1 days for INTUCH.BK with MSE = 5.327995435112414\n",
            "Predict 1 days for INTUCH.BK with MSE = 3.9469525794291056\n",
            "Predict 1 days for INTUCH.BK with MSE = 7.569018295507172\n",
            "Predict 1 days for INTUCH.BK with MSE = 5.908143716771059\n",
            "Predict 1 days for INTUCH.BK with MSE = 17.79269047710473\n",
            "Predict 1 days for INTUCH.BK with MSE = 72.26719899756166\n",
            "Predict 1 days for INTUCH.BK with MSE = 934.8659424800774\n",
            "Predict 1 days for INTUCH.BK with MSE = 3.204679283910777\n"
          ],
          "name": "stdout"
        }
      ]
    },
    {
      "cell_type": "markdown",
      "metadata": {
        "id": "RDMKRvBhp-y2",
        "colab_type": "text"
      },
      "source": [
        "Foud that if history points = 90 and epoch = 90, it can reduce about MSE to ~2.79%\n",
        "\n",
        "Then, I'll fix epoch = 90 and history points = 90 and repeat the same step again.\n",
        "\n"
      ]
    },
    {
      "cell_type": "code",
      "metadata": {
        "id": "puqpZxZKqSjs",
        "colab_type": "code",
        "outputId": "6a0069fd-f3d9-4828-e0ca-591bdaf0dd1f",
        "colab": {
          "base_uri": "https://localhost:8080/",
          "height": 255
        }
      },
      "source": [
        "# 3rd round. Fix epoch at 90 and fix history_points at 90.\n",
        "# Run other get best parameters function to improve MSE lower than 2.79%.\n",
        "predict_range = 1\n",
        "max_hidden_layer = 100\n",
        "max_batch_size = 100\n",
        "epoch = 90\n",
        "history_points = 90\n",
        "\n",
        "stock_list = ['INTUCH.BK']\n",
        "\n",
        "get_best_hidden_layer(predict_range, max_hidden_layer, stock_list , epoch = 60,history_points=70)\n",
        "get_best_batch_size(predict_range, max_batch_size, stock_list, epoch = 60,history_points=70)\n",
        "get_best_dropout_prob(predict_range, stock_list, epoch = 60,history_points=70)"
      ],
      "execution_count": 0,
      "outputs": [
        {
          "output_type": "stream",
          "text": [
            "Predict 1 days for INTUCH.BK with MSE = 4.201759599415332\n",
            "Predict 1 days for INTUCH.BK with MSE = 2.8779869710491135\n",
            "Predict 1 days for INTUCH.BK with MSE = 3.1484410202691464\n",
            "Predict 1 days for INTUCH.BK with MSE = 2.8964917973600164\n",
            "Predict 1 days for INTUCH.BK with MSE = 3.3884709927712025\n",
            "Predict 1 days for INTUCH.BK with MSE = 2.8554990877091875\n",
            "Predict 1 days for INTUCH.BK with MSE = 3.139180957608434\n",
            "Predict 1 days for INTUCH.BK with MSE = 8.854390776801539\n",
            "Predict 1 days for INTUCH.BK with MSE = 3.1172274656176424\n",
            "Predict 1 days for INTUCH.BK with MSE = 3.4485823488333076\n",
            "Predict 1 days for INTUCH.BK with MSE = 2.8881942501715043\n",
            "Predict 1 days for INTUCH.BK with MSE = 2.8489603028549597\n",
            "Predict 1 days for INTUCH.BK with MSE = 3.6472107087257575\n",
            "Predict 1 days for INTUCH.BK with MSE = 10.125518062521657\n"
          ],
          "name": "stdout"
        }
      ]
    },
    {
      "cell_type": "markdown",
      "metadata": {
        "id": "BWdwtzWCyKo0",
        "colab_type": "text"
      },
      "source": [
        "The result is that changing the remaining parameters don't improve error rate further from 2.79%. So, I'd conclude the set of parameter value below as parameters for 1 day prediction.\n",
        "\n",
        "- epoch = 90\n",
        "- history_points = 90\n",
        "- batch_size = 10\n",
        "- hidden_layer = 10\n",
        "- dropout_proability = 1.0\n",
        "\n",
        "Before proceeding with 5 and 10 day prediction, I'd like to try add additional data features - MACD and EMA to see if it could reduce the MSE further or not."
      ]
    },
    {
      "cell_type": "code",
      "metadata": {
        "id": "P5iOHW8GzJ05",
        "colab_type": "code",
        "colab": {}
      },
      "source": [
        "# 4th round. Add MACD and EMA to see, if it could lower than 2.79%.\n",
        "predict_range = 1\n",
        "\n",
        "history_points = 90\n",
        "hidden_layer = 10\n",
        "batch_size = 10\n",
        "epoch = 90\n",
        "dropout_probability = 1.0 \n",
        "mode = 'df'   \n",
        "\n",
        "stock = 'INTUCH.BK'\n",
        "exception_list = []\n",
        "mse_list = []\n",
        "\n",
        "try:\n",
        "  model, scaled_mse = train_and_validate_stock_predictor(gdrive_path+stock,history_points,predict_range,hidden_layer,batch_size,epoch,dropout_probability,mode)\n",
        "  print(\"Predict {} days for {} with MSE = {}\".format(str(predict_range),str(stock),str(scaled_mse)))\n",
        "  mse_list.append([stock,scaled_mse])\n",
        "  pd.DataFrame(mse_list).to_csv('/content/drive/My Drive/Colab Notebooks/'+stock+'_'+str(predict_range)+'_mse.csv')\n",
        "except Exception as e:\n",
        "  print(\"exception \"+str(e)+\"on \"+stock)\n",
        "  exception_list.append([predict_range,stock,str(e)])\n",
        "  pd.DataFrame(exception_list).to_csv('/content/drive/My Drive/Colab Notebooks/exception.csv')"
      ],
      "execution_count": 0,
      "outputs": []
    },
    {
      "cell_type": "markdown",
      "metadata": {
        "id": "UJUFO0297cCX",
        "colab_type": "text"
      },
      "source": [
        "The result is that the MSE increases to be 6.7% instead. So, we can conclude that additional features aren't necessaries for 1 day prediction."
      ]
    },
    {
      "cell_type": "markdown",
      "metadata": {
        "id": "yNTECuyZduR_",
        "colab_type": "text"
      },
      "source": [
        "***1.5 Optimize parameter for 5 and 10 days prediction***\n",
        "\n",
        "This is the way that I do for finding the optimized parameter. I'll repeat the same steps again but change predict range to 5.\n",
        "\n",
        "However, I found that epoch seems to have high effect to execution time. So, I'll test it as the last parameter."
      ]
    },
    {
      "cell_type": "code",
      "metadata": {
        "id": "MLOVwPN-d5Gx",
        "colab_type": "code",
        "outputId": "0202e564-7317-42ef-ab97-3d180d59c727",
        "colab": {
          "base_uri": "https://localhost:8080/",
          "height": 544
        }
      },
      "source": [
        "# 1st Round run all get best parameter function to find the best performer\n",
        "predict_range = 5\n",
        "max_hidden_layer = 100\n",
        "max_history_points = 100\n",
        "max_batch_size = 100\n",
        "\n",
        "stock_list = ['INTUCH.BK']\n",
        "\n",
        "get_best_hidden_layer(predict_range, max_hidden_layer, stock_list)\n",
        "get_best_history_points(predict_range, max_history_points, stock_list)\n",
        "get_best_batch_size(predict_range, max_batch_size, stock_list)\n",
        "get_best_dropout_prob(predict_range, stock_list)\n",
        "# Save epoch for the last\n",
        "# get_best_epoch(predict_range, max_epoch"
      ],
      "execution_count": 0,
      "outputs": [
        {
          "output_type": "stream",
          "text": [
            "Predict 5 days for INTUCH.BK with MSE = 14.663372960920624\n",
            "Predict 5 days for INTUCH.BK with MSE = 21.788453401514207\n",
            "Predict 5 days for INTUCH.BK with MSE = 10.109239501873638\n",
            "Predict 5 days for INTUCH.BK with MSE = 16.027826665405755\n",
            "Predict 5 days for INTUCH.BK with MSE = 10.853976526612739\n",
            "Predict 5 days for INTUCH.BK with MSE = 10.581376106179945\n",
            "Predict 5 days for INTUCH.BK with MSE = 9.48202239684108\n",
            "Predict 5 days for INTUCH.BK with MSE = 14.153720397382957\n",
            "Predict 5 days for INTUCH.BK with MSE = 13.309037871915578\n",
            "Predict 5 days for INTUCH.BK with MSE = 10.13850075210193\n",
            "Predict 5 days for INTUCH.BK with MSE = 18.318112208905678\n",
            "Predict 5 days for INTUCH.BK with MSE = 29.161556682747424\n",
            "Predict 5 days for INTUCH.BK with MSE = 14.287167456466296\n",
            "Predict 5 days for INTUCH.BK with MSE = 17.182286071446377\n",
            "Predict 5 days for INTUCH.BK with MSE = 129.93619525270594\n",
            "Predict 5 days for INTUCH.BK with MSE = 28.58902177726796\n",
            "Predict 5 days for INTUCH.BK with MSE = 13.782048245078524\n",
            "Predict 5 days for INTUCH.BK with MSE = 21.779757583567743\n",
            "Predict 5 days for INTUCH.BK with MSE = 25.59914239177179\n",
            "Predict 5 days for INTUCH.BK with MSE = 42.41752323658706\n",
            "Predict 5 days for INTUCH.BK with MSE = 45.012707312544684\n",
            "Predict 5 days for INTUCH.BK with MSE = 74.62162677388487\n",
            "Predict 5 days for INTUCH.BK with MSE = 45.2596108302952\n",
            "Predict 5 days for INTUCH.BK with MSE = 57.49311951031307\n",
            "Predict 5 days for INTUCH.BK with MSE = 56.62334666665587\n",
            "Predict 5 days for INTUCH.BK with MSE = 78.59922312632486\n",
            "Predict 5 days for INTUCH.BK with MSE = 28.942530193559733\n",
            "Predict 5 days for INTUCH.BK with MSE = 27.348406635580762\n",
            "Predict 5 days for INTUCH.BK with MSE = 111.70371804434578\n",
            "Predict 5 days for INTUCH.BK with MSE = 660.3643299032551\n",
            "Predict 5 days for INTUCH.BK with MSE = 26.284487405989616\n"
          ],
          "name": "stdout"
        }
      ]
    },
    {
      "cell_type": "markdown",
      "metadata": {
        "id": "Jv9fI7lvo5CK",
        "colab_type": "text"
      },
      "source": [
        "The best parameter for the 1st round is hidden_layer = 70 with ~9.48% MSE"
      ]
    },
    {
      "cell_type": "code",
      "metadata": {
        "id": "fyk_s7NdpIqw",
        "colab_type": "code",
        "outputId": "59612892-640c-4073-e06d-0033df976264",
        "colab": {
          "base_uri": "https://localhost:8080/",
          "height": 374
        }
      },
      "source": [
        "# 2nd round for 5 days prediction. Aiming for lower than 9.48% MSE\n",
        "# Fix hidden_layer = 70\n",
        "\n",
        "predict_range = 5\n",
        "max_hidden_layer = 100\n",
        "max_history_points = 100\n",
        "max_batch_size = 100\n",
        "hidden_layer = 70\n",
        "\n",
        "stock_list = ['INTUCH.BK']\n",
        "\n",
        "get_best_batch_size(predict_range, max_batch_size, stock_list, hidden_layer=hidden_layer)\n",
        "get_best_dropout_prob(predict_range, stock_list, hidden_layer=hidden_layer)\n",
        "get_best_history_points(predict_range, max_history_points, stock_list, hidden_layer=hidden_layer)\n",
        "# Save epoch for the last\n",
        "# get_best_epoch(predict_range, max_epoch"
      ],
      "execution_count": 0,
      "outputs": [
        {
          "output_type": "stream",
          "text": [
            "Predict 5 days for INTUCH.BK with MSE = 27.031581366912395\n",
            "Predict 5 days for INTUCH.BK with MSE = 45.27224100508611\n",
            "Predict 5 days for INTUCH.BK with MSE = 13.86358429720259\n",
            "Predict 5 days for INTUCH.BK with MSE = 15.545954244045257\n",
            "Predict 5 days for INTUCH.BK with MSE = 60.05835575582075\n",
            "Predict 5 days for INTUCH.BK with MSE = 45.70141571625727\n",
            "Predict 5 days for INTUCH.BK with MSE = 18.601137704390236\n",
            "Predict 5 days for INTUCH.BK with MSE = 18.007648162346232\n",
            "Predict 5 days for INTUCH.BK with MSE = 39.21729792324067\n",
            "Predict 5 days for INTUCH.BK with MSE = 39.09379841710541\n",
            "Predict 5 days for INTUCH.BK with MSE = 43.008669473400396\n",
            "Predict 5 days for INTUCH.BK with MSE = 100.09994090749821\n",
            "Predict 5 days for INTUCH.BK with MSE = 10.28567377017991\n",
            "Predict 5 days for INTUCH.BK with MSE = 14.003181301940565\n",
            "Predict 5 days for INTUCH.BK with MSE = 13.078061585841642\n",
            "Predict 5 days for INTUCH.BK with MSE = 13.809657234654523\n",
            "Predict 5 days for INTUCH.BK with MSE = 18.46907378107311\n",
            "Predict 5 days for INTUCH.BK with MSE = 9.794646692172053\n",
            "Predict 5 days for INTUCH.BK with MSE = 12.820923628206396\n",
            "Predict 5 days for INTUCH.BK with MSE = 12.092970121396075\n",
            "Predict 5 days for INTUCH.BK with MSE = 14.011581102375276\n"
          ],
          "name": "stdout"
        }
      ]
    },
    {
      "cell_type": "markdown",
      "metadata": {
        "id": "TTtomPOj0Sj3",
        "colab_type": "text"
      },
      "source": [
        "Adjusting batch_size, dropout_probability and history_points don't improve anymore. So, I'll try with epoch and adding MACD and EMA."
      ]
    },
    {
      "cell_type": "code",
      "metadata": {
        "id": "uINnCeB60fY2",
        "colab_type": "code",
        "outputId": "796949eb-1223-46aa-95f4-e7b12dedba69",
        "colab": {
          "base_uri": "https://localhost:8080/",
          "height": 187
        }
      },
      "source": [
        "# 3rd round for 5 days prediction. Aiming for lower than 9.48% MSE\n",
        "# Fix hidden_layer = 70\n",
        "\n",
        "predict_range = 5\n",
        "max_epoch = 100\n",
        "hidden_layer = 70\n",
        "\n",
        "stock_list = ['INTUCH.BK']\n",
        "\n",
        "get_best_epoch(predict_range, max_epoch , hidden_layer=hidden_layer)"
      ],
      "execution_count": 0,
      "outputs": [
        {
          "output_type": "stream",
          "text": [
            "Predict 5 days for INTUCH.BK with MSE = 9.742580808455797\n",
            "Predict 5 days for INTUCH.BK with MSE = 9.051870866143128\n",
            "Predict 5 days for INTUCH.BK with MSE = 12.137845036309827\n",
            "Predict 5 days for INTUCH.BK with MSE = 9.40427632628235\n",
            "Predict 5 days for INTUCH.BK with MSE = 8.9294598377829\n",
            "Predict 5 days for INTUCH.BK with MSE = 7.5634794636705545\n",
            "Predict 5 days for INTUCH.BK with MSE = 16.16010911116545\n",
            "Predict 5 days for INTUCH.BK with MSE = 9.810248734656666\n",
            "Predict 5 days for INTUCH.BK with MSE = 8.81964397829325\n",
            "Predict 5 days for INTUCH.BK with MSE = 17.658914075472364\n"
          ],
          "name": "stdout"
        }
      ]
    },
    {
      "cell_type": "markdown",
      "metadata": {
        "id": "zi7b_fnUw8u6",
        "colab_type": "text"
      },
      "source": [
        "We are at ~7.56% MSE now. Next, I'll try to add more data to see, if it could help."
      ]
    },
    {
      "cell_type": "code",
      "metadata": {
        "id": "PziTABrluyyn",
        "colab_type": "code",
        "outputId": "bc509401-c01c-4489-c5f2-469a03681835",
        "colab": {
          "base_uri": "https://localhost:8080/",
          "height": 34
        }
      },
      "source": [
        "# 4th round MSE 7.56, try with EDA\n",
        "predict_range = 5\n",
        "\n",
        "hidden_layer = 70\n",
        "dropout_probability = 1.0\n",
        "history_points = 30\n",
        "epoch = 60\n",
        "batch_size = 10\n",
        "mode = 'df'\n",
        "\n",
        "stock = 'INTUCH.BK'\n",
        "\n",
        "exception_list = []\n",
        "mse_list = []\n",
        "\n",
        "try:\n",
        "  model, scaled_mse = train_and_validate_stock_predictor(stock,history_points,predict_range,hidden_layer,batch_size,epoch,dropout_probability,mode)\n",
        "  print(\"Predict {} days for {} with MSE = {}\".format(str(predict_range),str(stock),str(scaled_mse)))\n",
        "  mse_list.append([stock,scaled_mse])\n",
        "  pd.DataFrame(mse_list).to_csv('/content/drive/My Drive/Colab Notebooks/set50_'+str(predict_range)+'_mse.csv')\n",
        "except Exception as e:\n",
        "  print(\"exception \"+str(e)+\"on \"+stock)\n",
        "  exception_list.append([predict_range,stock,str(e)])\n",
        "  pd.DataFrame(exception_list).to_csv('/content/drive/My Drive/Colab Notebooks/exception.csv')\n",
        "  "
      ],
      "execution_count": 0,
      "outputs": [
        {
          "output_type": "stream",
          "text": [
            "Predict 5 days for INTUCH.BK with MSE = 10.145595279221254\n"
          ],
          "name": "stdout"
        }
      ]
    },
    {
      "cell_type": "markdown",
      "metadata": {
        "id": "MPWrXRe_xF8G",
        "colab_type": "text"
      },
      "source": [
        "Turn out to be it couldn't help that much. I'm not sure, if we add this at the first place and retry the process again will change the result or not. So, the best MSE for 5 days is 7.56%.\n",
        "\n",
        "Repeat the same process again with 10 days prediction. In short, I took 5 iterations to get the best parameters. However. "
      ]
    },
    {
      "cell_type": "code",
      "metadata": {
        "id": "wiu967yO84xi",
        "colab_type": "code",
        "colab": {}
      },
      "source": [
        "# 1st Round for 10 days prediction run all get best parameter function to find the best performer.\n",
        "# As get_best_epoch take the longest time to get result, I'll just move it to the last round.\n",
        "predict_range = 10\n",
        "max_hidden_layer = 100\n",
        "max_history_points = 100\n",
        "max_batch_size = 100\n",
        "\n",
        "stock_list = ['INTUCH.BK']\n",
        "\n",
        "get_best_hidden_layer(predict_range, max_hidden_layer, stock_list)\n",
        "get_best_batch_size(predict_range, max_batch_size, stock_list)\n",
        "get_best_dropout_prob(predict_range, stock_list)\n",
        "get_best_history_points(predict_range, max_history_points, stock_list)"
      ],
      "execution_count": 0,
      "outputs": []
    },
    {
      "cell_type": "code",
      "metadata": {
        "id": "2IDV--kW85pH",
        "colab_type": "code",
        "colab": {}
      },
      "source": [
        "# 2nd round. From previous round, I got the best parameters is hidden_layer = 60 with MSE 17.74\n",
        "# Repeat the same tuning again without get_best_hidden_layer.\n",
        "# As get_best_epoch take the longest time to get result, I'll just move it to the last round.\n",
        "predict_range = 10\n",
        "max_history_points = 100\n",
        "max_batch_size = 100\n",
        "\n",
        "hidden_layer = 60\n",
        "\n",
        "stock_list = ['INTUCH.BK']\n",
        "\n",
        "get_best_batch_size(predict_range, max_batch_size, stock_list, hidden_layer=hidden_layer)\n",
        "get_best_dropout_prob(predict_range, stock_list, hidden_layer=hidden_layer)\n",
        "get_best_history_points(predict_range, max_history_points, stock_list, hidden_layer=hidden_layer)"
      ],
      "execution_count": 0,
      "outputs": []
    },
    {
      "cell_type": "code",
      "metadata": {
        "id": "S26d5MBt9PV9",
        "colab_type": "code",
        "colab": {}
      },
      "source": [
        "# 3rd round. From previous round, I got the best parameters are hidden_layer = 60 and dropout_prob = 0.3 with MSE 15.86\n",
        "# Repeat the same tuning again without get_best_hidden_layer and get_best_dropout.\n",
        "# As get_best_epoch take the longest time to get result, I'll just move it to the last round.\n",
        "\n",
        "predict_range = 10\n",
        "max_history_points = 100\n",
        "max_batch_size = 100\n",
        "\n",
        "hidden_layer = 60\n",
        "dropout_probability = 0.3\n",
        "\n",
        "stock_list = ['INTUCH.BK']\n",
        "\n",
        "get_best_batch_size(predict_range, max_batch_size, stock_list, hidden_layer=hidden_layer,dropout_probability=dropout_probability)\n",
        "get_best_history_points(predict_range, max_history_points, stock_list, hidden_layer=hidden_layer,dropout_probability=dropout_probability)"
      ],
      "execution_count": 0,
      "outputs": []
    },
    {
      "cell_type": "code",
      "metadata": {
        "id": "oL0U83zz9TnH",
        "colab_type": "code",
        "colab": {}
      },
      "source": [
        "# 4th round. From previous round, I got the best parameters are hidden_layer = 60 and dropout_prob = 0.3 and history_points = 50 with MSE 15.59\n",
        "# Repeat the same tuning again without get_best_hidden_layer, get_best_dropout, get_best_history_points.\n",
        "# As get_best_epoch take the longest time to get result, I'll just move it to the last round.\n",
        "\n",
        "predict_range = 10\n",
        "max_batch_size = 100\n",
        "\n",
        "hidden_layer = 60\n",
        "dropout_probability = 0.3\n",
        "history_points = 50\n",
        "\n",
        "stock_list = ['INTUCH.BK']\n",
        "\n",
        "get_best_batch_size(predict_range, max_batch_size, stock_list, hidden_layer=hidden_layer,dropout_probability=dropout_probability,history_points=history_points)"
      ],
      "execution_count": 0,
      "outputs": []
    },
    {
      "cell_type": "code",
      "metadata": {
        "id": "A5jLYFrfva3V",
        "colab_type": "code",
        "colab": {}
      },
      "source": [
        "# 5th round. From previous round, I got the best parameters are hidden_layer = 60, dropout_prob = 0.3, history_points = 50 and epoch = 80 with MSE 14.22\n",
        "# This round will try to add MACD and EMA to train the model.\n",
        "predict_range = 10\n",
        "\n",
        "hidden_layer = 60\n",
        "dropout_probability = 0.3\n",
        "history_points = 50\n",
        "epoch = 80\n",
        "batch_size = 10\n",
        "mode = 'df'\n",
        "\n",
        "stock = 'INTUCH.BK'\n",
        "\n",
        "exception_list = []\n",
        "mse_list = []\n",
        "\n",
        "try:\n",
        "  model, scaled_mse = train_and_validate_stock_predictor(stock,history_points,predict_range,hidden_layer,batch_size,epoch,dropout_probability,mode)\n",
        "  print(\"Predict {} days for {} with MSE = {}\".format(str(predict_range),str(stock),str(scaled_mse)))\n",
        "  mse_list.append([stock,scaled_mse])\n",
        "  pd.DataFrame(mse_list).to_csv('/content/drive/My Drive/Colab Notebooks/set50_'+str(predict_range)+'_mse.csv')\n",
        "except Exception as e:\n",
        "  print(\"exception \"+str(e)+\"on \"+stock)\n",
        "  exception_list.append([predict_range,stock,str(e)])\n",
        "  pd.DataFrame(exception_list).to_csv('/content/drive/My Drive/Colab Notebooks/exception.csv')"
      ],
      "execution_count": 0,
      "outputs": []
    },
    {
      "cell_type": "markdown",
      "metadata": {
        "id": "y3hofx8CzrQ8",
        "colab_type": "text"
      },
      "source": [
        "MSE increases to be ~17.54%. So, it seems like adding technical analysis parameters don't help for this example case."
      ]
    },
    {
      "cell_type": "markdown",
      "metadata": {
        "id": "retmcoc7lQf3",
        "colab_type": "text"
      },
      "source": [
        "In summary, these are the parameters that I got for optimizing INTUCH.BK.\n",
        "\n",
        "**1 day prediction at 2.78% MSE**\n",
        "- history points : 90\n",
        "- hidden layer : 10\n",
        "- batch size : 10\n",
        "- dropout probability : 1.0\n",
        "- epoch : 90\n",
        "- add MACD and EMA? : No\n",
        "\n",
        "**5 days prediction at 7.56% MSE**\n",
        "- history points : 30\n",
        "- hidden layer : 70\n",
        "- batch size : 10\n",
        "- dropout probability : 1.0\n",
        "- epoch : 60\n",
        "- add MACD and EMA? : No\n",
        "\n",
        "**10 days prediction at 14.55% MSE**\n",
        "- history points :50\n",
        "- hidden layer : 60\n",
        "- batch size : 10\n",
        "- dropout probability : 0.3\n",
        "- epoch : 80\n",
        "- add MACD and EMA? : No"
      ]
    },
    {
      "cell_type": "markdown",
      "metadata": {
        "id": "B8gOoWxKKQwl",
        "colab_type": "text"
      },
      "source": [
        "###Summary of predicting one stock in 1,5 and 10 days prediction\n",
        "- The more day range that we predict the more error that we have.\n",
        "- Batch size seems to doesn't has much effect for improving the prediction accuracy.\n",
        "- Epoch, Layer and Dropout Probability have effect in improving the prediction accuracy.\n",
        "- Adding more data features may not always help increase accuracy."
      ]
    },
    {
      "cell_type": "markdown",
      "metadata": {
        "id": "juALgd7EmOj-",
        "colab_type": "text"
      },
      "source": [
        "## 2. Apply the parameter set above with SET50 to find how well it work with other stocks\n",
        "\n",
        "From the parameters that we got from previous section, I'll try them with al of SET50 stocks and plot the distribution of MSE to see the performance across the list."
      ]
    },
    {
      "cell_type": "code",
      "metadata": {
        "id": "6DBTGbcK5o5G",
        "colab_type": "code",
        "colab": {}
      },
      "source": [
        "# Apply with SET50 prediction 1 day\n",
        "predict_range = 1\n",
        "\n",
        "history_points = 90\n",
        "hidden_layer = 10\n",
        "batch_size = 10\n",
        "epoch = 90\n",
        "dropout_probability = 1.0 \n",
        "mode = 'file'   \n",
        "\n",
        "stock_list = get_set50_list()\n",
        "\n",
        "for stock in stock_list:\n",
        "\n",
        "  exception_list = []\n",
        "  mse_list = []\n",
        "  \n",
        "  try:\n",
        "    model, scaled_mse = train_and_validate_stock_predictor(stock,history_points,predict_range,hidden_layer,batch_size,epoch,dropout_probability,mode)\n",
        "    print(\"Predict {} days for {} with MSE = {}\".format(str(predict_range),str(stock),str(scaled_mse)))\n",
        "    mse_list.append([stock,scaled_mse])\n",
        "    pd.DataFrame(mse_list).to_csv('/content/drive/My Drive/Colab Notebooks/set50_'+str(predict_range)+'_mse.csv')\n",
        "  except Exception as e:\n",
        "    print(\"exception \"+str(e)+\"on \"+stock)\n",
        "    exception_list.append([predict_range,stock,str(e)])\n",
        "    pd.DataFrame(exception_list).to_csv('/content/drive/My Drive/Colab Notebooks/exception.csv')\n",
        "    continue"
      ],
      "execution_count": 0,
      "outputs": []
    },
    {
      "cell_type": "code",
      "metadata": {
        "id": "tEMvuP9GqNo_",
        "colab_type": "code",
        "colab": {}
      },
      "source": [
        "# Apply with SET50 prediction 5 days\n",
        "predict_range = 5\n",
        "\n",
        "history_points = 30\n",
        "hidden_layer = 70\n",
        "batch_size = 10\n",
        "epoch = 80\n",
        "dropout_probability = 1.0 \n",
        "mode = 'file'   \n",
        "\n",
        "stock_list = get_set50_list()\n",
        "\n",
        "for stock in stock_list:\n",
        "\n",
        "  exception_list = []\n",
        "  mse_list = []\n",
        "  \n",
        "  try:\n",
        "    model, scaled_mse = train_and_validate_stock_predictor(stock,history_points,predict_range,hidden_layer,batch_size,epoch,dropout_probability,mode)\n",
        "    print(\"Predict {} days for {} with MSE = {}\".format(str(predict_range),str(stock),str(scaled_mse)))\n",
        "    mse_list.append([stock,scaled_mse])\n",
        "    pd.DataFrame(mse_list).to_csv('/content/drive/My Drive/Colab Notebooks/set50_'+str(predict_range)+'_mse.csv')\n",
        "  except Exception as e:\n",
        "    print(\"exception \"+str(e)+\"on \"+stock)\n",
        "    exception_list.append([predict_range,stock,str(e)])\n",
        "    pd.DataFrame(exception_list).to_csv('/content/drive/My Drive/Colab Notebooks/exception.csv')\n",
        "    continue"
      ],
      "execution_count": 0,
      "outputs": []
    },
    {
      "cell_type": "code",
      "metadata": {
        "id": "4UAyiTt2qO8L",
        "colab_type": "code",
        "colab": {}
      },
      "source": [
        "# Apply with SET50 prediction 10 days\n",
        "predict_range = 10\n",
        "\n",
        "history_points = 50\n",
        "hidden_layer = 60\n",
        "batch_size = 10\n",
        "epoch = 80\n",
        "dropout_probability = 0.3 \n",
        "mode = 'file'   \n",
        "\n",
        "stock_list = get_set50_list()\n",
        "\n",
        "for stock in stock_list:\n",
        "\n",
        "  exception_list = []\n",
        "  mse_list = []\n",
        "  \n",
        "  try:\n",
        "    model, scaled_mse = train_and_validate_stock_predictor(stock,history_points,predict_range,hidden_layer,batch_size,epoch,dropout_probability,mode)\n",
        "    print(\"Predict {} days for {} with MSE = {}\".format(str(predict_range),str(stock),str(scaled_mse)))\n",
        "    mse_list.append([stock,scaled_mse])\n",
        "    pd.DataFrame(mse_list).to_csv('/content/drive/My Drive/Colab Notebooks/set50_'+str(predict_range)+'_mse.csv')\n",
        "  except Exception as e:\n",
        "    print(\"exception \"+str(e)+\"on \"+stock)\n",
        "    exception_list.append([predict_range,stock,str(e)])\n",
        "    pd.DataFrame(exception_list).to_csv('/content/drive/My Drive/Colab Notebooks/exception.csv')\n",
        "    continue"
      ],
      "execution_count": 0,
      "outputs": []
    },
    {
      "cell_type": "markdown",
      "metadata": {
        "id": "sxsn51uyqVn4",
        "colab_type": "text"
      },
      "source": [
        "Then, we will read the result CSV files and see the model performance across SET50 stocks by ploting histogram of MSE."
      ]
    },
    {
      "cell_type": "code",
      "metadata": {
        "id": "ye1LQeZcqiuy",
        "colab_type": "code",
        "colab": {}
      },
      "source": [
        "df_set50_one_day = pd.read_csv('/content/drive/My Drive/Colab Notebooks/set50_1_mse.csv')\n",
        "df_set50_five_days = pd.read_csv('/content/drive/My Drive/Colab Notebooks/set50_5_mse.csv')\n",
        "df_set50_ten_days = pd.read_csv('/content/drive/My Drive/Colab Notebooks/set50_10_mse.csv')"
      ],
      "execution_count": 0,
      "outputs": []
    },
    {
      "cell_type": "markdown",
      "metadata": {
        "id": "rLaQa29zFq87",
        "colab_type": "text"
      },
      "source": [
        "First, I'll look at how the MSE is distributed for each range of prediction."
      ]
    },
    {
      "cell_type": "code",
      "metadata": {
        "id": "GZZkDvT8FJs-",
        "colab_type": "code",
        "outputId": "97ba8a7d-8ae0-4a88-cd48-55377ada251a",
        "colab": {
          "base_uri": "https://localhost:8080/",
          "height": 312
        }
      },
      "source": [
        "plt.hist(df_set50_one_day['1'], bins=100, color='#0504aa',\n",
        "                            alpha=0.7, rwidth=0.85)\n",
        "plt.grid(axis='y', alpha=0.75)\n",
        "plt.xlabel('MSE')\n",
        "plt.ylabel('Frequency')\n",
        "\n",
        "plt.title('MSE Historgram one day prediction')"
      ],
      "execution_count": 0,
      "outputs": [
        {
          "output_type": "execute_result",
          "data": {
            "text/plain": [
              "Text(0.5, 1.0, 'MSE Historgram one day prediction')"
            ]
          },
          "metadata": {
            "tags": []
          },
          "execution_count": 18
        },
        {
          "output_type": "display_data",
          "data": {
            "image/png": "[encoded data removed]",
            "text/plain": [
              "<Figure size 432x288 with 1 Axes>"
            ]
          },
          "metadata": {
            "tags": [],
            "needs_background": "light"
          }
        }
      ]
    },
    {
      "cell_type": "code",
      "metadata": {
        "id": "V-9gkH7PD5-s",
        "colab_type": "code",
        "outputId": "dedb4804-8e5c-4b12-dc68-e19510c8dcfd",
        "colab": {
          "base_uri": "https://localhost:8080/",
          "height": 312
        }
      },
      "source": [
        "plt.hist(df_set50_five_days['1'], bins=100, color='#0504aa',\n",
        "                            alpha=0.7, rwidth=0.85)\n",
        "plt.grid(axis='y', alpha=0.75)\n",
        "plt.xlabel('MSE')\n",
        "plt.ylabel('Frequency')\n",
        "plt.title('MSE Historgram five days prediction')"
      ],
      "execution_count": 0,
      "outputs": [
        {
          "output_type": "execute_result",
          "data": {
            "text/plain": [
              "Text(0.5, 1.0, 'MSE Historgram five days prediction')"
            ]
          },
          "metadata": {
            "tags": []
          },
          "execution_count": 20
        },
        {
          "output_type": "display_data",
          "data": {
            "image/png": "[encoded data removed]",
            "text/plain": [
              "<Figure size 432x288 with 1 Axes>"
            ]
          },
          "metadata": {
            "tags": [],
            "needs_background": "light"
          }
        }
      ]
    },
    {
      "cell_type": "code",
      "metadata": {
        "id": "IZX6DCUVqvWA",
        "colab_type": "code",
        "outputId": "80949f8e-97be-44b1-da72-2234a5a5488e",
        "colab": {
          "base_uri": "https://localhost:8080/",
          "height": 312
        }
      },
      "source": [
        "plt.hist(df_set50_ten_days['1'], bins=100, color='#0504aa',\n",
        "                            alpha=0.7, rwidth=0.85)\n",
        "plt.grid(axis='y', alpha=0.75)\n",
        "plt.xlabel('MSE')\n",
        "plt.ylabel('Frequency')\n",
        "plt.title('MSE Historgram ten days prediction')"
      ],
      "execution_count": 0,
      "outputs": [
        {
          "output_type": "execute_result",
          "data": {
            "text/plain": [
              "Text(0.5, 1.0, 'MSE Historgram ten days prediction')"
            ]
          },
          "metadata": {
            "tags": []
          },
          "execution_count": 21
        },
        {
          "output_type": "display_data",
          "data": {
            "image/png": "[encoded data removed]",
            "text/plain": [
              "<Figure size 432x288 with 1 Axes>"
            ]
          },
          "metadata": {
            "tags": [],
            "needs_background": "light"
          }
        }
      ]
    },
    {
      "cell_type": "code",
      "metadata": {
        "id": "MbHbBkGRaZ6j",
        "colab_type": "code",
        "outputId": "adeee25f-3b42-416c-f97b-3b0b8e1e6cb3",
        "colab": {
          "base_uri": "https://localhost:8080/",
          "height": 561
        }
      },
      "source": [
        "print(df_set50_one_day['1'].describe())\n",
        "print(df_set50_one_day[df_set50_one_day['1']<5.5][['0','1']])\n",
        "print('Number of stock with lesser 5.5% MSE = '+str(len(df_set50_one_day[df_set50_one_day['1']<5.5][['0','1']])))"
      ],
      "execution_count": 0,
      "outputs": [
        {
          "output_type": "stream",
          "text": [
            "count     49.000000\n",
            "mean      27.215419\n",
            "std       61.060802\n",
            "min        0.414448\n",
            "25%        3.565661\n",
            "50%        7.477967\n",
            "75%       19.104286\n",
            "max      299.453257\n",
            "Name: 1, dtype: float64\n",
            "            0         1\n",
            "3    BANPU.BK  0.850120\n",
            "5     BDMS.BK  2.227449\n",
            "6      BEM.BK  1.574452\n",
            "12   CPALL.BK  3.957153\n",
            "13     CPF.BK  2.956984\n",
            "14     CPN.BK  3.780230\n",
            "15   DELTA.BK  3.995283\n",
            "16    DTAC.BK  4.554961\n",
            "19  GLOBAL.BK  1.846260\n",
            "22   HMPRO.BK  1.925090\n",
            "23  INTUCH.BK  3.565661\n",
            "24    IRPC.BK  0.414448\n",
            "27     KTB.BK  0.699720\n",
            "29      LH.BK  0.961075\n",
            "30    MINT.BK  1.744889\n",
            "33     PTT.BK  3.687011\n",
            "36   RATCH.BK  4.167013\n",
            "40    TCAP.BK  4.505917\n",
            "44     TOP.BK  5.118292\n",
            "46      TU.BK  1.468572\n",
            "48     WHA.BK  1.847849\n",
            "Number of stock with lesser 5.5% MSE = 21\n"
          ],
          "name": "stdout"
        }
      ]
    },
    {
      "cell_type": "code",
      "metadata": {
        "id": "xa3LMRI2bCM6",
        "colab_type": "code",
        "outputId": "5aaaca3f-6aa9-4e4e-848d-ff6ae885f67a",
        "colab": {
          "base_uri": "https://localhost:8080/",
          "height": 374
        }
      },
      "source": [
        "print(df_set50_five_days['1'].describe())\n",
        "print(df_set50_five_days[df_set50_five_days['1']<5.5][['0','1']])\n",
        "print('Number of stock with lesser 5.5% MSE = '+str(len(df_set50_five_days[df_set50_five_days['1']<5.5][['0','1']])))"
      ],
      "execution_count": 0,
      "outputs": [
        {
          "output_type": "stream",
          "text": [
            "count     50.000000\n",
            "mean      39.756351\n",
            "std       58.548626\n",
            "min        0.700300\n",
            "25%        7.595314\n",
            "50%       15.572795\n",
            "75%       46.978638\n",
            "max      314.116485\n",
            "Name: 1, dtype: float64\n",
            "           0         1\n",
            "3   BANPU.BK  1.612754\n",
            "23  HMPRO.BK  3.320892\n",
            "25   IRPC.BK  0.860036\n",
            "28    KTB.BK  3.756850\n",
            "30     LH.BK  2.874180\n",
            "31   MINT.BK  5.370007\n",
            "43    TMB.BK  0.700300\n",
            "47     TU.BK  4.009992\n",
            "48    VGI.BK  3.796415\n",
            "49    WHA.BK  2.060792\n",
            "Number of stock with lesser 5.5% MSE = 10\n"
          ],
          "name": "stdout"
        }
      ]
    },
    {
      "cell_type": "code",
      "metadata": {
        "id": "MHPwtegibD7Q",
        "colab_type": "code",
        "outputId": "b97fe279-31f5-44db-e1ab-9bb137f81758",
        "colab": {
          "base_uri": "https://localhost:8080/",
          "height": 272
        }
      },
      "source": [
        "print(df_set50_ten_days['1'].describe())\n",
        "print(df_set50_ten_days[df_set50_ten_days['1']<5.5][['0','1']])\n",
        "print('Number of stock with lesser 5.5% MSE = '+str(len(df_set50_ten_days[df_set50_ten_days['1']<5.5][['0','1']])))"
      ],
      "execution_count": 0,
      "outputs": [
        {
          "output_type": "stream",
          "text": [
            "count     29.000000\n",
            "mean      98.259861\n",
            "std      189.829005\n",
            "min        1.543295\n",
            "25%       10.502754\n",
            "50%       37.872614\n",
            "75%       82.262616\n",
            "max      957.624380\n",
            "Name: 1, dtype: float64\n",
            "           0         1\n",
            "3   BANPU.BK  5.347815\n",
            "10    BTS.BK  5.403659\n",
            "24   IRPC.BK  1.543295\n",
            "27    KTB.BK  4.590162\n",
            "Number of stock with lesser 5.5% MSE = 4\n"
          ],
          "name": "stdout"
        }
      ]
    },
    {
      "cell_type": "markdown",
      "metadata": {
        "id": "yQXpYwTrF5ow",
        "colab_type": "text"
      },
      "source": [
        "We can see that the more longer prediction range the lower accuracy as the frequency of higher MSE increases when we compare 1 day with 5 days and 10 days prediction.\n",
        "\n",
        "If we say that 5% MSE is the acceptable accuracy of the model for being use. We can see the number of stocks that pass this criterias for each range of prediction as below."
      ]
    },
    {
      "cell_type": "markdown",
      "metadata": {
        "id": "gHyVkThjHg27",
        "colab_type": "text"
      },
      "source": [
        "The result that we get is 18, 8 and 3 for 1 day, 5 days and 10 days prediction.\n",
        "We can also find the list of the stocks that can be predicted with lower 5% MSE for all ranges by using set intersection as below."
      ]
    },
    {
      "cell_type": "code",
      "metadata": {
        "id": "h93AotE02BGN",
        "colab_type": "code",
        "colab": {}
      },
      "source": [
        "set_fiveday = set(df_set50_five_days[df_set50_five_days['1'] < 5.5]['0'])\n",
        "set_oneday = set(df_set50_one_day[df_set50_one_day['1']<5.5]['0'])\n",
        "set_tenday = set(df_set50_ten_days[df_set50_ten_days['1']<5.5]['0'])"
      ],
      "execution_count": 0,
      "outputs": []
    },
    {
      "cell_type": "code",
      "metadata": {
        "id": "9zyEljJ5-BXR",
        "colab_type": "code",
        "outputId": "b0930397-a9d7-4ece-9536-465c7e2ccda4",
        "colab": {
          "base_uri": "https://localhost:8080/",
          "height": 153
        }
      },
      "source": [
        "set_oneday.intersection(set_fiveday)"
      ],
      "execution_count": 0,
      "outputs": [
        {
          "output_type": "execute_result",
          "data": {
            "text/plain": [
              "{'BANPU.BK',\n",
              " 'HMPRO.BK',\n",
              " 'IRPC.BK',\n",
              " 'KTB.BK',\n",
              " 'LH.BK',\n",
              " 'MINT.BK',\n",
              " 'TU.BK',\n",
              " 'WHA.BK'}"
            ]
          },
          "metadata": {
            "tags": []
          },
          "execution_count": 34
        }
      ]
    },
    {
      "cell_type": "code",
      "metadata": {
        "id": "vdua0KWA7iW6",
        "colab_type": "code",
        "outputId": "0c4dbc1f-462e-4729-b759-41c0c8422fc9",
        "colab": {
          "base_uri": "https://localhost:8080/",
          "height": 34
        }
      },
      "source": [
        "set_oneday.intersection(set_fiveday).intersection(set_tenday)"
      ],
      "execution_count": 0,
      "outputs": [
        {
          "output_type": "execute_result",
          "data": {
            "text/plain": [
              "{'BANPU.BK', 'IRPC.BK', 'KTB.BK'}"
            ]
          },
          "metadata": {
            "tags": []
          },
          "execution_count": 35
        }
      ]
    },
    {
      "cell_type": "markdown",
      "metadata": {
        "id": "Ws5zzbtUExC9",
        "colab_type": "text"
      },
      "source": [
        "I also run 5 and 10 days prediction on SET50 for another round by adding MACD and EMA to the dataset to see how it effects the overall result."
      ]
    },
    {
      "cell_type": "code",
      "metadata": {
        "id": "-aaQVU6tFBmG",
        "colab_type": "code",
        "colab": {}
      },
      "source": [
        "df_set50_five_days = pd.read_csv('/content/drive/My Drive/Colab Notebooks/set50_5_mse.csv')\n",
        "df_set50_five_days_add = pd.read_csv('/content/drive/My Drive/Colab Notebooks/set50_5_mse_add_data.csv')"
      ],
      "execution_count": 0,
      "outputs": []
    },
    {
      "cell_type": "code",
      "metadata": {
        "id": "8n2_3vp6Fal_",
        "colab_type": "code",
        "outputId": "df21c804-ea1e-4ae2-f886-c0ce7ab7b81a",
        "colab": {
          "base_uri": "https://localhost:8080/",
          "height": 312
        }
      },
      "source": [
        "# compare by find the distribution of differentiate for each stock\n",
        "df_set50_five_days_diff = pd.DataFrame(df_set50_five_days['1'] - df_set50_five_days_add['1'])\n",
        "\n",
        "plt.hist(df_set50_five_days_diff['1'], bins=100, color='#0504aa',\n",
        "                            alpha=0.7, rwidth=0.85)\n",
        "plt.grid(axis='y', alpha=0.75)\n",
        "plt.xlabel('MSE Diff')\n",
        "plt.ylabel('Frequency')\n",
        "plt.title('Diff of MSE Historgram five days prediction between with and without MACD and EMA')"
      ],
      "execution_count": 0,
      "outputs": [
        {
          "output_type": "execute_result",
          "data": {
            "text/plain": [
              "Text(0.5, 1.0, 'Diff of MSE Historgram five days prediction between with and without MACD and EMA')"
            ]
          },
          "metadata": {
            "tags": []
          },
          "execution_count": 46
        },
        {
          "output_type": "display_data",
          "data": {
            "image/png": "[encoded data removed]",
            "text/plain": [
              "<Figure size 432x288 with 1 Axes>"
            ]
          },
          "metadata": {
            "tags": [],
            "needs_background": "light"
          }
        }
      ]
    },
    {
      "cell_type": "code",
      "metadata": {
        "id": "xBVyfJILGZ1u",
        "colab_type": "code",
        "outputId": "7b482bae-d600-48f2-841d-501a28246033",
        "colab": {
          "base_uri": "https://localhost:8080/",
          "height": 204
        }
      },
      "source": [
        "print(df_set50_five_days_diff.describe())\n",
        "print('Number of stock that MSE increases after adding MACD and EMA = '+str(len(df_set50_five_days_diff[df_set50_five_days_diff['1']<0])))\n",
        "print('Number of stock that MSE decreases after adding MACD and EMA = '+str(len(df_set50_five_days_diff[df_set50_five_days_diff['1']>=0])))"
      ],
      "execution_count": 0,
      "outputs": [
        {
          "output_type": "stream",
          "text": [
            "                1\n",
            "count   50.000000\n",
            "mean   -10.806557\n",
            "std     52.617327\n",
            "min   -311.094024\n",
            "25%     -4.366777\n",
            "50%     -0.253794\n",
            "75%      1.181030\n",
            "max     91.403275\n",
            "Number of stock that MSE increases after adding MACD and EMA = 26\n",
            "Number of stock that MSE decreases after adding MACD and EMA = 24\n"
          ],
          "name": "stdout"
        }
      ]
    },
    {
      "cell_type": "markdown",
      "metadata": {
        "id": "CcUCVdrxGmjK",
        "colab_type": "text"
      },
      "source": [
        "From the distribution above, we found that adding MACD and EMA does help reduce MSE for about half of SET50 stocks for 5 day prediction while it also increase MSE for another half as well."
      ]
    },
    {
      "cell_type": "markdown",
      "metadata": {
        "id": "DoHesJlfMj5T",
        "colab_type": "text"
      },
      "source": [
        "###Summary of SET50 prediction for 1,5 and 10 days\n",
        "- The parameters for 1 day prediction is able to predict 40% of stock in SET50 with lower than 5% MSE. However, the number of stock with lower than 5% MSE reduces to 10 and 4 stockes for 5 and 10 days prediction.\n",
        "- The stock that has lower 5% MSE on all range of prediction is 3 stocks.\n",
        "- The current parameters is created base on 1 example stock, however, it is possible to use to predict other stocks which some of them even has better accuracy than the example case.\n",
        "- We can see that the MSE is increased for some stocks and also decreased  for some stocks on 10 days prediction after we add MACD and EMA as training additional features. Base on this, it is clear that to optimize stock price prediction accuracy we should scope down for one stock as the parameter won't give good result on all stocks as each stock price move due to influences of different factors."
      ]
    },
    {
      "cell_type": "markdown",
      "metadata": {
        "id": "ZkY5UixyPDS6",
        "colab_type": "text"
      },
      "source": [
        "##3. Create User-Friendly function for user to select their interested stocks, train and query for stock price prediction\n",
        "\n",
        "After I got the set of LSTM parameters that would work best for 1, 5 and 10 days prediction, I'll try to build a script which the user can use to train the model and query for the stock price prediction.\n",
        "\n",
        "Since LSTM model using Keras required Tensorflow and also decent machine to run, building the web server to build and train the model on web server is quite costly. \n",
        "\n",
        "I have tried free tier of web server on heroku but free tier web server has limited execution time of any function. Therefore, it won't be possible to run train the model which need more than 5 minutes to do.\n",
        "\n",
        "So, I decide to create a separated notebook which provides 2 code cells. One for receiving list of stock and range of training data and another one for query the predicted price.\n",
        "\n",
        "To do this, I need to pack all of my functions into one file so that it is easily used by upload the notebook and the functions file together to new colaboratory space and make it ready to run. I also have to modify some of my code to make it not need to mount with Google drive and able to handle some input error as listed below.\n",
        "\n",
        "There are 2 new functions that I added to the code below which will be used as interface with the user for the script.\n",
        "\n",
        "**- train_model** : This function will recieve stock list and range of date for downloading the stock data from Yaoo Finance. It will train the model by using the parameters that I found earlier and save the model to colaboratory file system using h5 format along with its MSE.\n",
        "\n",
        "**- query_price** : This function will recieve the stock list that the user want to predict the price and the date range from training data's end date to predict for the stock price. The function will read the trained model and do prediction per the requested date range. Support up to 10 date range only.\n"
      ]
    },
    {
      "cell_type": "code",
      "metadata": {
        "id": "67mzywk3Iqlb",
        "colab_type": "code",
        "outputId": "b83a4edd-a81c-4f43-b110-265d2de86f91",
        "colab": {
          "base_uri": "https://localhost:8080/",
          "height": 34
        }
      },
      "source": [
        "%%file stock_predictor.py\n",
        "\n",
        "import yfinance as yf\n",
        "import numpy as np\n",
        "import pandas as pd\n",
        "from sklearn import preprocessing\n",
        "import matplotlib.pyplot as plt\n",
        "from sklearn.pipeline import Pipeline\n",
        "from sklearn.model_selection import GridSearchCV\n",
        "import keras\n",
        "import tensorflow as tf\n",
        "from keras.models import Model\n",
        "from keras.layers import Dense, Dropout, LSTM, Input, Activation, concatenate\n",
        "from keras import optimizers\n",
        "import numpy as np\n",
        "from keras.models import Sequential\n",
        "from keras.utils import plot_model\n",
        "from keras.models import load_model\n",
        "\n",
        "# Yahoo Finance Library for getting historical stock data from Yahoo finance\n",
        "import os.path, time\n",
        "import datetime\n",
        "\n",
        "def get_stock_data(stock_list,start_date,end_date):\n",
        "    '''\n",
        "        Download stock data from Yahoo Finance as listed in stock_list\n",
        "        starting from start date to end date and save to CSV file.\n",
        "        The default path is the same path as the running script.\n",
        "\n",
        "        Input:\n",
        "        - stock_list (String) : String of Yahoo Finance's ticker name separated by space. For example, stockA stockB stockC ...\n",
        "        - start_date (String) : String of start date in format DD/MM/YYYY.\n",
        "        - end_date (String) : String of end date in format DD/MM/YYYY.\n",
        "\n",
        "        Output:\n",
        "        - No return value\n",
        "        - The csv file will be written with the naming convention as ticker.csv\n",
        "\n",
        "    '''\n",
        "    for stock in stock_list:\n",
        "        try:\n",
        "            file = stock+'.csv'\n",
        "            print('Downloading data from Yahoo Finance...')\n",
        "            data = yf.download(stock, start=start_date, end=end_date)\n",
        "            pd.DataFrame(data).to_csv(file)\n",
        "        except Exception as e:\n",
        "            print(\"exception \"+str(e)+\"on \"+stock)\n",
        "            print(\"start date = \"+start_date)\n",
        "            print(\"end date = \"+end_date)\n",
        "\n",
        "def dataset_preparation(filename, history_points, predict_range, y_normaliser, mode='file', df=None):\n",
        "    '''\n",
        "      This function will prepare data and make it ready for training and testing the model by receiving the CSV file path or dataframe \n",
        "      equivalent to Yahoo Finance's historical data with other parameters, normalize to 0-1 range value, separate into train and test and return the result.\n",
        "\n",
        "      Input:\n",
        "      - filename (String) : The file path for csv file containing historical stock data downloaded from Yahoo Finance. \n",
        "      - history_points (Number) : The number of day range for historical data to be used for training the model.\n",
        "      - predict_range (Number) : The range of day to forecast the price.\n",
        "      - y_normmalizer (preprocessing.MinMaxScaler Object) :  Preprocessor for normalize the price for forecast data to be 0-1. We need this so that we could use it again for scaling up the data back to normal value.\n",
        "      - df (DataFrame) : The dataframe input of the dataset. If the filename is passed and the mode is set to'file' it will be ignored.\n",
        "      - mode : If it is 'file' the function will ignore df otherwise it will assume that df will be provided for preparation. This is used in the case that the data is read from CSV and append with other data features.\n",
        "\n",
        "      Output:\n",
        "      - ohlcv_histories_normalised (Array) : Array of the data features. One row consist of [day-1-open,day-1-max,day-1-min,...day-history_point ].\n",
        "      - next_day_adjclose_values_normalised (Array) : Array of normalised Adj Close values transformed in the format of [day1-adj close,day2-adj close....day-predict_range adj close].\n",
        "      - next_day_adjclose_values (Array) : Array of actual Adj Close values transformed in the format of [day1-adj close,day2-adj close....day-predict_range adj close].\n",
        "      - y_normaliser (preprocessing.MinMaxScaler Object) : After we fit the actual value, we return it back so that it can be used again to scale the normalized result.\n",
        "    '''\n",
        "\n",
        "    # Prepare data per mode - file or dataframe input\n",
        "    if mode=='file':\n",
        "      # If it is file mode the function expect CSV file path to read the data\n",
        "      df = pd.read_csv(filename)\n",
        "\n",
        "    # For both mode, we will drop row with null value as we can't use it anyway\n",
        "    df_na = df.dropna(axis=0)\n",
        "    # Drop Date as this is time series data, Date isn't used. Also drop Close as we will predict Adj Close.\n",
        "    df_na = df_na.drop(['Date','Close'],axis=1)\n",
        "\n",
        "    # Normalise all data to the value range of 0-1 as neural network algorithm has better performance with this data range\n",
        "    data_normaliser = preprocessing.MinMaxScaler()\n",
        "    data_normalised = data_normaliser.fit_transform(df_na)\n",
        "\n",
        "    # Prepare the data in the format of [day-1-open,day-1-max,day-1-min,...day-history_point ] as 1 row input for predict the 'predict_range' price for train and test\n",
        "    ohlcv_histories_normalised = np.array([data_normalised[i  : i + history_points].copy() for i in range(len(data_normalised) - history_points - predict_range +1)])\n",
        "\n",
        "    # Get the actual price [day1-adj close,day2-adj close....day-predict_range adj close] for train and test\n",
        "    next_day_adjclose_values_normalised = np.array([data_normalised[i + history_points:i + history_points + predict_range,3].copy() for i in range(len(data_normalised) - history_points - predict_range+1)])\n",
        "\n",
        "    # Create the same array as the normalised adj close but with the actual value not the scaled down value. This is used to calculate the prediction accuracy\n",
        "    next_day_adjclose_values = np.array([df_na.iloc[i + history_points:i + history_points+predict_range]['Adj Close'].values.copy() for i in range(len(df_na) - history_points - predict_range+1)])    \n",
        "\n",
        "    # Use the passed normaliser to fit the actual value so that we can scale the predicted result back to actual value\n",
        "    y_normaliser.fit(next_day_adjclose_values)\n",
        "\n",
        "    return ohlcv_histories_normalised, next_day_adjclose_values_normalised, next_day_adjclose_values, y_normaliser\n",
        "\n",
        "def get_LSTM_Model(layer_num, history_points, features_num,predict_range,optimizer,dropout_prob):\n",
        "\n",
        "    '''\n",
        "      This function will build LSTM model per provided parameters.\n",
        "      The model will be a simple one consist of one forget layer with configurable forget probability and configurable number of hidden layers.\n",
        "\n",
        "      Input:\n",
        "      - layer_num (Number) : The number of hidden layer.\n",
        "      - history_points (Number) : The number of data in the dataset.\n",
        "      - features_num (Number) : The number of features in the dataset.\n",
        "      - predict_range (Number) : The number of day to predict the stock price.\n",
        "      - optimizer (Number) : The optimizer's name e.g. adam.\n",
        "      - dropout_prob (Float) : Probability to forget the date on dropout layer.\n",
        "\n",
        "      Output:\n",
        "      - model (Object) : The compiled LSTM model per the provided parameters.\n",
        "\n",
        "    '''\n",
        "\n",
        "    # Initialize LSTM using Keras library\n",
        "    model = Sequential()\n",
        "    # Defining hidden layer number and the shape of the input (number of data in the dataset and the number of feature)\n",
        "    model.add(LSTM(layer_num, input_shape=(history_points, features_num)))\n",
        "\n",
        "    # Add forget (dropout) layer with probability per argument\n",
        "    model.add(Dropout(dropout_prob))\n",
        "\n",
        "    # End the network with hiddenlayer per the size of forecast day e.g. 1,5,10\n",
        "    model.add(Dense(predict_range))\n",
        "\n",
        "    # Build and return the model per the selected optimizer\n",
        "    model.compile(loss='mean_squared_error', optimizer=optimizer)\n",
        "    return model\n",
        "\n",
        "def train_test_split(ohlcv_histories, next_day_adj_close, unscaled_y,test_split = 0.9):\n",
        "    '''\n",
        "        Split the dataset to train and test dataset per provideed ratio.\n",
        "\n",
        "        Input\n",
        "        - ohlcv_histories (Array) : The dataset in array.\n",
        "        - next_day_adj_close (Array) : The result of prediction using the dataset in array.\n",
        "        - unscaled_y (Array) : The same data as next_day_adj_close but not normalize to 0-1.\n",
        "        - test_split (Float) : The ratio of train per test.\n",
        "\n",
        "        Output\n",
        "        - ohlcv_train (Array) : The train dataset splitted per test_split ratio.\n",
        "        - ohlcv_test (Array) : The test dataset splitted per test_split ratio.\n",
        "        - y_test (Array) : The result of test dataset splitted per test_split ratio.\n",
        "        - y_train (Array) : The result of train dataset splitted per test_split ratio.\n",
        "        - unscaled_y_test (Array) : The unscaled y_test per test_split ratio.\n",
        "    '''\n",
        "    n = int(ohlcv_histories.shape[0] * test_split)\n",
        "\n",
        "    ohlcv_train = ohlcv_histories[:n]\n",
        "    y_train = next_day_adj_close[:n]\n",
        "\n",
        "    ohlcv_test = ohlcv_histories[n:]\n",
        "    y_test = next_day_adj_close[n:]\n",
        "\n",
        "    unscaled_y_test = unscaled_y[n:]\n",
        "\n",
        "    return ohlcv_train, ohlcv_test, y_test, y_train, unscaled_y_test\n",
        "\n",
        "def train_predictor(ohlcv_train,y_train,ohlcv_test,y_normaliser,unscaled_y_test,hidden_layer,batch_size,epoch,dropout_probability,history_points,features_num,predict_range):\n",
        "    '''\n",
        "        Create LSTM model per provideded parameter, fit the train data and validate its accuracy using MSE.\n",
        "        Finally, retrun the result of MSE and the model object.\n",
        "\n",
        "        Input\n",
        "        - ohlcv_train (Array) : Train dataset in array.\n",
        "        - y_train (Array) : Train dataset result in array.\n",
        "        - ohlcv_test (Array) : Test dataset in array.\n",
        "        - y_normaliser (preprocessing.MinMaxScaler Object) : The normaliser instance that is used to scale down y_test. We will use it to scale up the result from test dataset.\n",
        "        - unscaled_y_test (Array) : The unscaled y_test using for validate the result.\n",
        "        - hidden_layer (Number) : LSTM parameter's number of hidden layer.\n",
        "        - batch_size (Number) : LSTM parameter's number of batch size.\n",
        "        - epoch (Number) : LSTM parameter's number of epoch.\n",
        "        - dropout_probability (Float) : LSTM parameter's dropout probability.\n",
        "        - history_points (Number) : LSTM parameter's the number of history data to train the model in each iteration.\n",
        "        - features_num (Number) : LSTM parameter's the number of features in the dataset.\n",
        "        - predict_range : LSTM parameter's the number of predict data to be predicted.\n",
        "\n",
        "        Output\n",
        "        - model (Object) : LSTM model which can be saved to h5 or use to predict the result with the new dataset.\n",
        "        - scaled_mse (Float) : Mean Squared Error of the model measured by using the unscaled result from test dataset minus the unscaled_y_test\n",
        "\n",
        "    '''\n",
        "    model = get_LSTM_Model(hidden_layer,history_points,features_num,predict_range,'adam',dropout_probability)\n",
        "    model.fit(x=ohlcv_train, y=y_train, batch_size=batch_size, epochs=epoch, shuffle=True, validation_split=0.1,verbose=0)\n",
        "\n",
        "    y_test_predicted = model.predict(ohlcv_test)\n",
        "    y_test_predicted = y_normaliser.inverse_transform(y_test_predicted)\n",
        "\n",
        "    real_mse = np.mean(np.square(unscaled_y_test - y_test_predicted))\n",
        "    scaled_mse = real_mse / (np.max(unscaled_y_test) - np.min(unscaled_y_test)) * 100\n",
        "    return model, scaled_mse\n",
        "\n",
        "def train_and_validate_stock_predictor(stock,history_points,predict_range,hidden_layer,batch_size,epoch,dropout_probability, mode='file'):\n",
        "    '''\n",
        "        Encapsulate all activities to create LSTM model to predict the stock with parameters as provided.\n",
        "        There are 2 mode for this function. mode='file' will read data from csv file and not add additional features like macd and EMA\n",
        "        while other mode will read data from csv but also add macd and EMA as additional features.\n",
        "        Starting from transforming data, splitting to train/test, build and fit model, evaluate the model accuracy and return result.\n",
        "\n",
        "        Input\n",
        "        - stock (String) : Ticker per Yahoo Finance.\n",
        "        - history_points (Number) : LSTM parameter's the number of history data to train the model in each iteration.\n",
        "        - predict_range : LSTM parameter's the number of predict data to be predicted.\n",
        "        - hidden_layer (Number) : LSTM parameter's number of hidden layer.\n",
        "        - batch_size (Number) : LSTM parameter's number of batch size.\n",
        "        - epoch (Number) : LSTM parameter's number of epoch.\n",
        "        - dropout_probability (Float) : LSTM parameter's dropout probability.\n",
        "\n",
        "        Output\n",
        "        - model (Object) : LSTM model which can be saved to h5 or use to predict the result with the new dataset.\n",
        "        - scaled_mse (Float) : Mean Squared Error of the model measured by using the unscaled result from test dataset minus the unscaled_y_test\n",
        "    '''\n",
        "    # Read data and add MACD and EMA\n",
        "    if mode=='file':\n",
        "        features_num = 5\n",
        "        ohlcv_histories, next_day_adj_close, unscaled_y, y_normaliser = dataset_preparation(stock+'.csv',history_points,predict_range,preprocessing.MinMaxScaler())\n",
        "    else:\n",
        "        df = add_macd_ema(pd.read_csv(stock+'.csv'))\n",
        "        ohlcv_histories, next_day_adj_close, unscaled_y, y_normaliser = dataset_preparation('',history_points,predict_range,preprocessing.MinMaxScaler(),mode='df',df=df)\n",
        "        features_num = len(df.columns)-2\n",
        "\n",
        "    ohlcv_train, ohlcv_test, y_test, y_train, unscaled_y_test = train_test_split(ohlcv_histories,next_day_adj_close,unscaled_y)\n",
        "\n",
        "    model, scaled_mse = train_predictor(ohlcv_train,y_train,ohlcv_test,y_normaliser,unscaled_y_test,hidden_layer,batch_size,epoch,dropout_probability,history_points,features_num,predict_range)\n",
        "    return model, scaled_mse\n",
        "\n",
        "def add_macd_ema(df,ema1=20,ema2=50):\n",
        "    '''\n",
        "        Compute stock technical analysis indicator - MACD and EMA and add back to the dataset\n",
        "\n",
        "        Input\n",
        "        - df (DataFrame) : The DataFrame of stock data as downloaded from Yahoo Finance\n",
        "        - ema1 (Number) : The first EMA period to add to the dataset\n",
        "        - ema2 (Number) : The second EMA period to add to the dataset\n",
        "\n",
        "        Output\n",
        "        - df (DataFrame) : The DataFrame with new columns added - MACD, ema1 and ema2 e.g. MACD, 20, 50 are the default column name that will be added\n",
        "    '''\n",
        "    df_close = df[['Close']]\n",
        "    df_close.reset_index(level=0, inplace=True)\n",
        "    df_close.columns=['ds','y']\n",
        "\n",
        "    exp1 = df_close.y.ewm(span=12, adjust=False).mean()\n",
        "    exp2 = df_close.y.ewm(span=26, adjust=False).mean()\n",
        "    macd = exp1-exp2\n",
        "\n",
        "    df = pd.merge(df,macd,how='left',left_on=None, right_on=None, left_index=True, right_index=True)\n",
        "    df.columns = ['Date','Open','High','Low','Close','Adj Close','Volume','MACD']\n",
        "    df[ema1] = df['Close'].ewm(span=ema1, adjust=False).mean()\n",
        "    df[ema2] = df['Close'].ewm(span=ema2, adjust=False).mean()\n",
        "\n",
        "    return df\n",
        "\n",
        "def display_test_validation_graph(unscaled_y_test, y_test_predicted):\n",
        "    '''\n",
        "        Display the plot of the stock price in test dataset and the predicted data.\n",
        "\n",
        "        Input\n",
        "        - unscaled_y_test (Array) : The array of stock price in test dataset.\n",
        "        - y_test_predicted (Array) : The array of stock price as predicted.\n",
        "\n",
        "        Output\n",
        "        - No return value.\n",
        "        - The plot will be displayed on the screen.\n",
        "    '''\n",
        "    plt.gcf().set_size_inches(22, 15, forward=True)\n",
        "\n",
        "    start = 0\n",
        "    end = -1\n",
        "\n",
        "    real = plt.plot(unscaled_y_test[start:end], label='real')\n",
        "    pred = plt.plot(y_test_predicted[start:end], label='predicted')\n",
        "\n",
        "    plt.legend(['Real', 'Predicted'])\n",
        "\n",
        "    plt.show()\n",
        "\n",
        "def train_model(stock_list, start_date, end_date):\n",
        "    '''\n",
        "        Initial function for the user to use by provide stock list, start and end date of data to train the prediction model.\n",
        "        The function will call other function to download data from Yahoo finance per specific start and end date.\n",
        "        Then, prepare the data and build LSTM model for stock price prediction of 1,5 and 10 day using the set of parameters\n",
        "        that has been tuned that it can get some good result for SET50 and written all 3 models (per stock) to h5 file along with list of MSE of each model on the same path of the script.\n",
        "\n",
        "        Input\n",
        "        - stock_list (String) : List of ticker in space delimited format e.g. tickerA tickerB tickerC.\n",
        "        - start_date (String) : The string of start date in format DD/MM/YYYY.\n",
        "        - end_date (String) : The string of end date in format DD/MM/YYYY.\n",
        "\n",
        "        Output\n",
        "        - No return value.\n",
        "        - Print the model training progress on the screen.\n",
        "    '''\n",
        "    \n",
        "    # Split the stock_list to array\n",
        "    stock_list = stock_list.split(' ')\n",
        "    \n",
        "    # Convert string to datetime object\n",
        "    start_date = datetime.datetime.strptime(start_date,\"%d/%m/%Y\")\n",
        "    end_date = datetime.datetime.strptime(end_date,\"%d/%m/%Y\")\n",
        "\n",
        "    try:\n",
        "        get_stock_data(stock_list, start_date, end_date)\n",
        "    except Exception as e:\n",
        "        print(\"exception \"+str(e)+\"on \"+stock_list)\n",
        "    \n",
        "    # Array for recording MSE from each round of training\n",
        "    mse_list = [] \n",
        "    \n",
        "    # Train model to predict 1, 5 and 10 days using the best parameters from SET50 as found\n",
        "    # Save the trained model to h5 format to be used by query price function\n",
        "    for stock in stock_list:\n",
        "\n",
        "        print('start model training for stock = '+stock+'. It may take at least 5 minutes...')\n",
        "\n",
        "        # Train model for 1 day predict range by using parameters that we found from our study earlier\n",
        "\n",
        "        # Set up parameters for the model\n",
        "        predict_range = 1\n",
        "        history_points = 90\n",
        "        hidden_layer = 10\n",
        "        batch_size = 10\n",
        "        epoch = 90\n",
        "        dropout_probability = 1.0\n",
        "        mode = 'file'\n",
        "\n",
        "        try:\n",
        "            model, scaled_mse = train_and_validate_stock_predictor(stock,history_points,predict_range,hidden_layer,batch_size,epoch,dropout_probability,mode)\n",
        "            mse_list.append([stock, predict_range, scaled_mse])\n",
        "            model.save(stock+'_'+str(predict_range)+'.h5')\n",
        "        except Exception as e:\n",
        "            print(\"exception \"+str(e)+\"on \"+stock)\n",
        "            pd.DataFrame(columns=['predict rage','stock','exception'],data=[predict_range,stock,str(e)]).to_csv('exception.csv')\n",
        "            continue\n",
        "\n",
        "        # Train model for 5 days predict range by using parameters that we found from our study earlier\n",
        "\n",
        "        # Set up parameters for the model\n",
        "        predict_range = 5\n",
        "        history_points = 30\n",
        "        hidden_layer = 70\n",
        "        batch_size = 10\n",
        "        epoch = 60\n",
        "        dropout_probability = 1.0\n",
        "        mode = 'file'\n",
        "\n",
        "        try:\n",
        "            model, scaled_mse = train_and_validate_stock_predictor(stock,history_points,predict_range,hidden_layer,batch_size,epoch,dropout_probability,mode)\n",
        "            mse_list.append([stock, predict_range, scaled_mse])\n",
        "            model.save(stock+'_'+str(predict_range)+'.h5')\n",
        "        except Exception as e:\n",
        "            print(\"exception \"+str(e)+\"on \"+stock)\n",
        "            pd.DataFrame(columns=['predict rage','stock','exception'],data=[predict_range,stock,str(e)]).to_csv('exception.csv')\n",
        "            continue\n",
        "\n",
        "        # Train model for 10 days predict range by using parameters that we found from our study earlier\n",
        "        predict_range = 10\n",
        "        history_points = 50\n",
        "        hidden_layer = 60\n",
        "        batch_size = 10\n",
        "        epoch = 80\n",
        "        dropout_probability = 0.3\n",
        "        mode = 'file'\n",
        "\n",
        "        try:\n",
        "            model, scaled_mse = train_and_validate_stock_predictor(stock,history_points,predict_range,hidden_layer,batch_size,epoch,dropout_probability,mode)\n",
        "            print(\"Predict {} days for {} with MSE = {}\".format(str(predict_range),str(stock),str(scaled_mse)))\n",
        "            mse_list.append([stock, predict_range, scaled_mse])\n",
        "            model.save(stock+'_'+str(predict_range)+'.h5')\n",
        "        except Exception as e:\n",
        "            print(\"exception \"+str(e)+\"on \"+stock)\n",
        "            pd.DataFrame(columns=['predict rage','stock','exception'],data=[predict_range,stock,str(e)]).to_csv('exception.csv')\n",
        "            continue\n",
        "\n",
        "    print(\"Completed...\")\n",
        "    pd.DataFrame(mse_list).to_csv('mse_list.csv')\n",
        "\n",
        "def query_price(stock_list,date_range):\n",
        "    '''\n",
        "        Query the predicted price from the model of the stocks that were trained by providing the stock name and the date range of prediction from the end date of training data.\n",
        "        It supports only 1,5 and 10 date range.\n",
        "\n",
        "        Input\n",
        "        - stock_list (String) : List of ticker in space delimited format e.g. tickerA tickerB tickerC.\n",
        "        - date_range (Number) : The number of date range to predict the price - 1, 5 and 10 days from end date of the training data set.\n",
        "    '''\n",
        "    \n",
        "    # Split the stock list to array\n",
        "    stock_list = stock_list.split(' ')\n",
        "    \n",
        "    # Read MSE of the trained model for each stock and each range of prediction\n",
        "    df_mse = pd.read_csv('mse_list.csv')\n",
        "    \n",
        "    if date_range <=10:\n",
        "        for stock in stock_list:\n",
        "            \n",
        "            try:\n",
        "                \n",
        "                # Do prediction by using history_points of data as we found from our study earlier\n",
        "                if date_range == 1:\n",
        "                    predict_range = 1\n",
        "                    history_points = 90\n",
        "                    mode = 'file'\n",
        "                if date_range <= 5:\n",
        "                    predict_range = 5\n",
        "                    history_points = 30\n",
        "                    mode = 'file'\n",
        "                if date_range <= 10:\n",
        "                    predict_range = 50\n",
        "                    history_points = 90\n",
        "                    mode = 'df'\n",
        "                \n",
        "                model = load_model(stock+'_'+str(predict_range)+'.h5')\n",
        "                \n",
        "                df_stock = pd.read_csv(stock+'.csv')\n",
        "                df_stock = add_macd_ema(df_stock)\n",
        "\n",
        "                ohlcv_histories, next_day_adj_close, unscaled_y, y_normaliser = dataset_preparation(stock+'.csv',history_points,predict_range,preprocessing.MinMaxScaler(),mode=mode,df=df_stock)\n",
        "\n",
        "                adj_predicted = model.predict(ohlcv_histories[len(ohlcv_histories)-1:])\n",
        "                adj_predicted = y_normaliser.inverse_transform(adj_predicted)\n",
        "\n",
        "                print(stock+' price prediction for '+str(date_range)+' days : '+str(adj_predicted[0][:date_range]))\n",
        "                print(\"Mean square error = \"+str(df_mse[(df_mse['0']==stock) & (df_mse['1']==predict_range)]['2'].values)+\" %\")\n",
        "            except Exception as e:\n",
        "                print(\"There was an error : \"+str(e))\n",
        "                continue\n",
        "                \n",
        "    else:\n",
        "        print(\"Support prediction from the end date of training data for 1 to 10 days only. Please try again.\")\n",
        "        \n",
        "    \n"
      ],
      "execution_count": 0,
      "outputs": [
        {
          "output_type": "stream",
          "text": [
            "Writing stock_predictor.py\n"
          ],
          "name": "stdout"
        }
      ]
    },
    {
      "cell_type": "markdown",
      "metadata": {
        "id": "shWVSklHvDx6",
        "colab_type": "text"
      },
      "source": [
        "To distributed these as reusable script, I'll create a new Jupyter Notebook which has the following cells with predefine code."
      ]
    },
    {
      "cell_type": "code",
      "metadata": {
        "id": "v6WQU9JZvNhk",
        "colab_type": "code",
        "colab": {}
      },
      "source": [
        "# stock_list                : List of stock. Make sure that it is searchable on Yahoo finance. Put them inside ' ' and separate by one space\n",
        "# training_data_start_date  : Start date for the range of history data that you want to use it to train the model. Minimum range is 90 days. The format date is DD/MM/YYYY.\n",
        "# training_data_end_date    : The end date for the range of history data that you want to use it to train the model. The day after end date is the first date for stock price prediction.\n",
        "\n",
        "stock_list = 'ASK.BK INTUCH.BK'   \n",
        "training_data_start_date = '08/05/2000'\n",
        "training_data_end_date = '13/05/2020' \n",
        "\n",
        "# ------ DO NOT CHANGE CODE BELOW THIS LINE --------\n",
        "\n",
        "!pip install yfinance\n",
        "import yfinance as yf\n",
        "import os,sys\n",
        "sys.path.append(os.path.abspath(\"/content/stock_predictor.py\"))\n",
        "from stock_predictor import *\n",
        "train_model(stock_list,training_data_start_date,training_data_end_date)"
      ],
      "execution_count": 0,
      "outputs": []
    },
    {
      "cell_type": "markdown",
      "metadata": {
        "id": "5ITv37sMy-Wy",
        "colab_type": "text"
      },
      "source": [
        "`sys.path.append` will import the functions in stock_predictor.py so we could use this way to pack all of the functions and the required dependencies in one file.\n",
        "\n",
        "Another cell for query the result with code as below."
      ]
    },
    {
      "cell_type": "code",
      "metadata": {
        "id": "6kd_awlczC0R",
        "colab_type": "code",
        "colab": {}
      },
      "source": [
        "# query_list      : List of stock to query for the predict price. It must be subset of stock_list. Each stock ticker separates by one space.\n",
        "# prediction_rage : Day range from the training_data_end_date to predict for the stock price. Support at 10 as maximum date rage\n",
        "\n",
        "query_list = 'ASK.BK INTUCH.BK'\n",
        "prediction_range = 5\n",
        "\n",
        "query_price(query_list,prediction_range)"
      ],
      "execution_count": 0,
      "outputs": []
    },
    {
      "cell_type": "markdown",
      "metadata": {
        "id": "K9mL749M7XQg",
        "colab_type": "text"
      },
      "source": [
        "The result will be printed on the output panel.\n",
        "\n",
        "I will add both cells in a more user-friendly notebook - stock_predictor which is in the same repository as this notebook - https://github.com/pathompong-y/stock_predictor"
      ]
    },
    {
      "cell_type": "markdown",
      "metadata": {
        "id": "s2O4IL887q_r",
        "colab_type": "text"
      },
      "source": [
        "#Conclusion\n",
        "\n",
        "1. One way to tune the parameter of LSTM is to iteratively adjust one by one by starting from setting every parameter at lowest and iteratively change only one parameter at a time to find the value that has lowest MSE. Then, use that parameter value along with other parameters and iterate to find the best value of the next parameter.\n",
        "\n",
        "2. The result of parameters that we get base on using the data of open, high, low, volume to predict adj. close can be used to predict other stocks as well. If we use 5.5% MSE as acceptable error rate we can use this parameters to predict 40% of stock in SET50 for 1 day prediction, 20% of stock for 5 days prediction and about 5% of stock for 10 days prediction.\n",
        "\n",
        "3. The longer range of prediction the higher error that we will get.\n",
        "\n",
        "4. Adding technical analysis indicator like MACD and EMA does help improve the prediction accuracy for 50% of the stock in 5 days prediction.\n",
        "\n",
        "6. At the end of the day, to optimize accuracy of the prediction we have to do it stock by stock as the fetures that will effect is varies.\n",
        "\n",
        "#Further improvement\n",
        "\n",
        "1. We have lot of possiblities to improve the model further which can try for example we can adjust the EMA range or even add other technical analysis indicators and play around combination of them.\n",
        "\n",
        "2. We may also re-group the stock that the prices movements are based on the same set of certain criterias. For example grouping companies in Oil & Gas together and we may add oil price as additional data features as these companies stock price will effected by the oil price movement.\n",
        "\n"
      ]
    },
    {
      "cell_type": "code",
      "metadata": {
        "id": "gKP7pTSRsMQH",
        "colab_type": "code",
        "colab": {}
      },
      "source": [
        ""
      ],
      "execution_count": 0,
      "outputs": []
    }
  ]
}